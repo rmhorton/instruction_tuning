{
 "cells": [
  {
   "cell_type": "markdown",
   "metadata": {},
   "source": [
    "# Extract common question forms in Dolly data\n",
    "\n",
    "By parsing the Dolly corpus questions we can identify if it's a question, and what form of question it is. Then this can be used to check its assigned category, and the embedding-based classification of the question type. \n",
    "\n",
    "jma 30 Aug 2023"
   ]
  },
  {
   "cell_type": "code",
   "execution_count": 1,
   "metadata": {},
   "outputs": [],
   "source": [
    "# Load json version \n",
    "import re, os, sys\n",
    "import spacy as sp          # A production quality linguistic parser\n",
    "import numpy as np\n",
    "import pandas as pd\n",
    "\n",
    "DATA = '/mnt/512G_hd/repos/dolly_data/databricks-dolly-15k.jsonl'"
   ]
  },
  {
   "cell_type": "code",
   "execution_count": 2,
   "metadata": {},
   "outputs": [
    {
     "data": {
      "text/plain": [
       "Index(['instruction', 'context', 'response', 'category'], dtype='object')"
      ]
     },
     "execution_count": 2,
     "metadata": {},
     "output_type": "execute_result"
    }
   ],
   "source": [
    "d_data = pd.read_json(DATA, lines=True)\n",
    "d_data.columns"
   ]
  },
  {
   "cell_type": "code",
   "execution_count": 3,
   "metadata": {},
   "outputs": [],
   "source": [
    "# load the parser for English\n",
    "english_language = sp.load('en_core_web_trf')\n"
   ]
  },
  {
   "cell_type": "code",
   "execution_count": 10,
   "metadata": {},
   "outputs": [
    {
     "name": "stdout",
     "output_type": "stream",
     "text": [
      "['be', 'the']\n",
      "['VBZ', 'DT']\n",
      "['AUX', 'DET']\n",
      "['ROOT', 'det']\n"
     ]
    },
    {
     "data": {
      "text/plain": [
       "[('be', 'VBZ', 'verb, 3rd person singular present', 'AUX', 'ROOT', 0),\n",
       " ('the', 'DT', 'determiner', 'DET', 'det', 1)]"
      ]
     },
     "execution_count": 10,
     "metadata": {},
     "output_type": "execute_result"
    }
   ],
   "source": [
    "# Parse a sentence.  This give us the raw features to tell if its a question. \n",
    "\n",
    "def run_parse(the_sentence):\n",
    "    phrase = english_language(the_sentence)\n",
    "    # print([(i, i.label_) for i in phrase.ents]) We dont need the entities. \n",
    "    the_parse = []\n",
    "    found_root = False\n",
    "    for k, token in enumerate(phrase):\n",
    "        # 'Stop' words are the closed classes e.g. pronouns, of words.  Only a small finite number of words make up the class.\n",
    "        # Stop words  plus the auxilaries and verb give us all the gramatical structure we need.\n",
    "        if token.dep_ =='ROOT':\n",
    "            the_parse.append((token.lemma_, token.tag_, sp.explain(token.tag_), token.pos_, token.dep_, k))\n",
    "            # One word after after the main verb is needed for inversions.  \n",
    "            found_root = True\n",
    "        elif token.is_stop or found_root:\n",
    "            # print(token.text, token.lemma_, end = '\\t')\n",
    "            # print(token.is_stop, token.tag_, token.pos_, token.dep_)\n",
    "            the_parse.append((token.lemma_, token.tag_, sp.explain(token.tag_), token.pos_, token.dep_,k))\n",
    "            # The root is the main verb in the sentence\n",
    "            # if found_root:\n",
    "            #     break\n",
    "    return the_parse\n",
    "\n",
    "def get_lemma(token_parse):\n",
    "    return token_parse[0]\n",
    "\n",
    "def get_tag(token_parse):\n",
    "    return token_parse[1]\n",
    "\n",
    "def get_pos(token_parse):\n",
    "    return token_parse[3] \n",
    "\n",
    "def get_dep(token_parse):\n",
    "    return token_parse[4] \n",
    "\n",
    "p = run_parse(\"Is the bread objective or subjective?.\")\n",
    "print([get_lemma(z) for z in p])\n",
    "print([get_tag(z) for z in p])\n",
    "print([get_pos(z) for z in p])\n",
    "print([get_dep(z) for z in p])\n",
    "\n",
    "p"
   ]
  },
  {
   "cell_type": "markdown",
   "metadata": {},
   "source": []
  },
  {
   "cell_type": "code",
   "execution_count": 15,
   "metadata": {},
   "outputs": [
    {
     "name": "stdout",
     "output_type": "stream",
     "text": [
      "k,\tlemma,\ttag,\tpos,\tdep\n",
      "0,\tbe,\tVBZ,\tAUX,\tROOT\n",
      "1,\tthe,\tDT,\tDET,\tdet\n",
      "2,\tbread,\tNN,\tNOUN,\tnsubj\n",
      "3,\tobjective,\tJJ,\tADJ,\tacomp\n",
      "4,\tor,\tCC,\tCCONJ,\tcc\n",
      "5,\tsubjective,\tJJ,\tADJ,\tconj\n",
      "6,\t?,\t.,\tPUNCT,\tpunct\n",
      "7,\t.,\t.,\tPUNCT,\tpunct\n"
     ]
    }
   ],
   "source": [
    "def full_parse(the_sentence):\n",
    "    phrase = english_language(the_sentence)\n",
    "    print('k,\\tlemma,\\ttag,\\tpos,\\tdep')\n",
    "    for k, token in enumerate(phrase):\n",
    "        print(f'{k},\\t{token.lemma_},\\t{token.tag_},\\t{token.pos_},\\t{token.dep_}')\n",
    "\n",
    "full_parse(\"Is the bread objective or subjective?.\")"
   ]
  },
  {
   "cell_type": "code",
   "execution_count": 45,
   "metadata": {},
   "outputs": [
    {
     "name": "stdout",
     "output_type": "stream",
     "text": [
      "('WHQ', 'WP', 'AUX')\n",
      "('WHQ', 'WP', 'VERB')\n",
      "('WHQ', 'WRB', 'AUX')\n",
      "('WHQ', 'WRB', 'AUX')\n",
      "('WHQ', 'WRB', 'AUX')\n",
      "('WHQ', 'WRB', 'AUX')\n",
      "('WHQ', 'WDT', 'AUX')\n"
     ]
    }
   ],
   "source": [
    "# 1st rule -  inversion:  auxiliary followed by noun phase \n",
    "def wh_question(the_parse):\n",
    "    features = None\n",
    "    # Starts with a question word?\n",
    "    if (get_tag(the_parse[0]) in ('WP', 'WRB', 'WDT')) and (get_pos(the_parse[1]) in ('AUX', 'VERB')):\n",
    "        features = ('WHQ', get_tag(the_parse[0]), get_pos(the_parse[1]))\n",
    "    return features\n",
    "\n",
    "print(wh_question(run_parse('What is the currency in use in the Netherlands?')))\n",
    "print(wh_question(run_parse('Who became king of Holland in 1806?')))\n",
    "print(wh_question(run_parse('How was the king of Holland in 1806?')))\n",
    "print(wh_question(run_parse('How tall was the king of Holland in 1806?')))\n",
    "print(wh_question(run_parse('How does king of Holland make money?')))\n",
    "print(wh_question(run_parse('How large are your teeth grandma?')))\n",
    "print(wh_question(run_parse('Which are the best places?')))"
   ]
  },
  {
   "cell_type": "code",
   "execution_count": 57,
   "metadata": {},
   "outputs": [
    {
     "name": "stdout",
     "output_type": "stream",
     "text": [
      "('DO', 'VBD')\n",
      "('DO', 'VBP')\n"
     ]
    }
   ],
   "source": [
    "def did_question(the_parse):\n",
    "    # When inversions are not used (Go you home?) the phrase is prefaced by did to make a question.\n",
    "    features = None\n",
    "    if get_lemma(the_parse[0]) == 'do':\n",
    "        features = ('DO', get_tag(the_parse[0]))\n",
    "    return features\n",
    "\n",
    "print(did_question(run_parse('Did you go to the best places?')))\n",
    "print(did_question(run_parse(\"Don't the trees look nice?\")))"
   ]
  },
  {
   "cell_type": "code",
   "execution_count": 20,
   "metadata": {},
   "outputs": [
    {
     "name": "stdout",
     "output_type": "stream",
     "text": [
      "[('be', 'VBP', 'verb, non-3rd person singular present', 'AUX', 'aux', 0), ('the', 'DT', 'determiner', 'PRON', 'dep', 1), ('he', 'PRP', 'pronoun, personal', 'PRON', 'nsubj', 2), ('look', 'VBG', 'verb, gerund or present participle', 'VERB', 'ROOT', 3), ('nice', 'JJ', 'adjective (English), other noun-modifier (Chinese)', 'ADJ', 'acomp', 4)]\n",
      "None\n"
     ]
    }
   ],
   "source": [
    "def is_question(the_parse):\n",
    "    # The verb form 'be' placed before its subject indicates a question\n",
    "    print(the_parse)\n",
    "    features = None\n",
    "    # Starts with 'be' as the ROOT, followed by it's subject noun. \n",
    "    if (get_lemma(the_parse[0]) == 'be') and\\\n",
    "       (get_dep(the_parse[0]) == 'ROOT'):\n",
    "       # Look for a subject\n",
    "       for p in the_parse[1:]:\n",
    "          if (get_dep(p) == 'nsubj') and\\\n",
    "             (get_pos(p) in ('PRON', 'PROPN', 'NOUN')):\n",
    "             features = ('QIS',get_lemma(the_parse[0]), get_lemma(the_parse[1]) )\n",
    "    return features\n",
    "\n",
    "# print(is_question(run_parse(\"Are trees nice?\")))\n",
    "print(is_question(run_parse(\"Are the he looking nice?\")))\n",
    "# print(is_question(run_parse(\"is bread something Korean?\")))\n",
    "# print(is_question(run_parse(\"Would it be better?\")))\n"
   ]
  },
  {
   "cell_type": "code",
   "execution_count": 98,
   "metadata": {},
   "outputs": [
    {
     "name": "stdout",
     "output_type": "stream",
     "text": [
      "('INV', 'AUX', 'ROOT')\n",
      "('DO', 'VBD')\n",
      "('WHQ', 'WP', 'VERB')\n",
      "None\n",
      "('INV', 'VERB', 'ROOT')\n"
     ]
    }
   ],
   "source": [
    "def tst_for_question(the_sentence):\n",
    "    'test for a question form, and if so, return its features'\n",
    "    # TODO Extend this to ignore a phrase that prefaces the question. (e.g. the question word is not first.)\n",
    "    feature = None\n",
    "    p = run_parse(the_sentence)\n",
    "    if feature := did_question(p):\n",
    "        pass\n",
    "    elif feature := inversion_question(p):\n",
    "        pass\n",
    "    elif feature := wh_question(p):\n",
    "        pass\n",
    "    return feature\n",
    "\n",
    "print(is_question('Is beauty objective or subjective?'))\n",
    "print(is_question('Did dinosaurs have lips?'))\n",
    "print(is_question('Who played Billy the Kid in The Left Handed Gun'))\n",
    "print(is_question('Please summarize what Linkedin does.'))\n",
    "print(is_question('Give me what you find.'))"
   ]
  },
  {
   "cell_type": "code",
   "execution_count": 96,
   "metadata": {},
   "outputs": [],
   "source": []
  },
  {
   "cell_type": "code",
   "execution_count": 91,
   "metadata": {},
   "outputs": [
    {
     "data": {
      "text/html": [
       "<div>\n",
       "<style scoped>\n",
       "    .dataframe tbody tr th:only-of-type {\n",
       "        vertical-align: middle;\n",
       "    }\n",
       "\n",
       "    .dataframe tbody tr th {\n",
       "        vertical-align: top;\n",
       "    }\n",
       "\n",
       "    .dataframe thead th {\n",
       "        text-align: right;\n",
       "    }\n",
       "</style>\n",
       "<table border=\"1\" class=\"dataframe\">\n",
       "  <thead>\n",
       "    <tr style=\"text-align: right;\">\n",
       "      <th></th>\n",
       "      <th>0</th>\n",
       "      <th>instruction</th>\n",
       "      <th>context</th>\n",
       "      <th>response</th>\n",
       "      <th>category</th>\n",
       "    </tr>\n",
       "  </thead>\n",
       "  <tbody>\n",
       "    <tr>\n",
       "      <th>0</th>\n",
       "      <td>(WHQ, WRB, AUX)</td>\n",
       "      <td>When did Virgin Australia start operating?</td>\n",
       "      <td>Virgin Australia, the trading name of Virgin A...</td>\n",
       "      <td>Virgin Australia commenced services on 31 Augu...</td>\n",
       "      <td>closed_qa</td>\n",
       "    </tr>\n",
       "    <tr>\n",
       "      <th>1</th>\n",
       "      <td>(WHQ, WDT, AUX)</td>\n",
       "      <td>Which is a species of fish? Tope or Rope</td>\n",
       "      <td></td>\n",
       "      <td>Tope</td>\n",
       "      <td>classification</td>\n",
       "    </tr>\n",
       "    <tr>\n",
       "      <th>2</th>\n",
       "      <td>(WHQ, WRB, AUX)</td>\n",
       "      <td>Why can camels survive for long without water?</td>\n",
       "      <td></td>\n",
       "      <td>Camels use the fat in their humps to keep them...</td>\n",
       "      <td>open_qa</td>\n",
       "    </tr>\n",
       "    <tr>\n",
       "      <th>3</th>\n",
       "      <td>None</td>\n",
       "      <td>Alice's parents have three daughters: Amy, Jes...</td>\n",
       "      <td></td>\n",
       "      <td>The name of the third daughter is Alice</td>\n",
       "      <td>open_qa</td>\n",
       "    </tr>\n",
       "    <tr>\n",
       "      <th>4</th>\n",
       "      <td>(WHQ, WRB, AUX)</td>\n",
       "      <td>When was Tomoaki Komorida born?</td>\n",
       "      <td>Komorida was born in Kumamoto Prefecture on Ju...</td>\n",
       "      <td>Tomoaki Komorida was born on July 10,1981.</td>\n",
       "      <td>closed_qa</td>\n",
       "    </tr>\n",
       "    <tr>\n",
       "      <th>...</th>\n",
       "      <td>...</td>\n",
       "      <td>...</td>\n",
       "      <td>...</td>\n",
       "      <td>...</td>\n",
       "      <td>...</td>\n",
       "    </tr>\n",
       "    <tr>\n",
       "      <th>15006</th>\n",
       "      <td>(WHQ, WRB, AUX)</td>\n",
       "      <td>How do i accept the change</td>\n",
       "      <td></td>\n",
       "      <td>Embrace the change and see the difference</td>\n",
       "      <td>brainstorming</td>\n",
       "    </tr>\n",
       "    <tr>\n",
       "      <th>15007</th>\n",
       "      <td>(WHQ, WP, AUX)</td>\n",
       "      <td>What is a laser and who created it?</td>\n",
       "      <td>A laser is a device that emits light through a...</td>\n",
       "      <td>A laser is a device that emits light from an e...</td>\n",
       "      <td>summarization</td>\n",
       "    </tr>\n",
       "    <tr>\n",
       "      <th>15008</th>\n",
       "      <td>(WHQ, WP, AUX)</td>\n",
       "      <td>What is the difference between a road bike and...</td>\n",
       "      <td></td>\n",
       "      <td>Road bikes are built to be ridden on asphalt a...</td>\n",
       "      <td>open_qa</td>\n",
       "    </tr>\n",
       "    <tr>\n",
       "      <th>15009</th>\n",
       "      <td>(WHQ, WRB, AUX)</td>\n",
       "      <td>How does GIS help in the real estate investmen...</td>\n",
       "      <td></td>\n",
       "      <td>Real estate investors depend on precise, accur...</td>\n",
       "      <td>general_qa</td>\n",
       "    </tr>\n",
       "    <tr>\n",
       "      <th>15010</th>\n",
       "      <td>(WHQ, WP, AUX)</td>\n",
       "      <td>What is the Masters?</td>\n",
       "      <td></td>\n",
       "      <td>The Masters Tournament is a golf tournament he...</td>\n",
       "      <td>general_qa</td>\n",
       "    </tr>\n",
       "  </tbody>\n",
       "</table>\n",
       "<p>15011 rows × 5 columns</p>\n",
       "</div>"
      ],
      "text/plain": [
       "                     0                                        instruction  \\\n",
       "0      (WHQ, WRB, AUX)         When did Virgin Australia start operating?   \n",
       "1      (WHQ, WDT, AUX)           Which is a species of fish? Tope or Rope   \n",
       "2      (WHQ, WRB, AUX)     Why can camels survive for long without water?   \n",
       "3                 None  Alice's parents have three daughters: Amy, Jes...   \n",
       "4      (WHQ, WRB, AUX)                    When was Tomoaki Komorida born?   \n",
       "...                ...                                                ...   \n",
       "15006  (WHQ, WRB, AUX)                         How do i accept the change   \n",
       "15007   (WHQ, WP, AUX)                What is a laser and who created it?   \n",
       "15008   (WHQ, WP, AUX)  What is the difference between a road bike and...   \n",
       "15009  (WHQ, WRB, AUX)  How does GIS help in the real estate investmen...   \n",
       "15010   (WHQ, WP, AUX)                               What is the Masters?   \n",
       "\n",
       "                                                 context  \\\n",
       "0      Virgin Australia, the trading name of Virgin A...   \n",
       "1                                                          \n",
       "2                                                          \n",
       "3                                                          \n",
       "4      Komorida was born in Kumamoto Prefecture on Ju...   \n",
       "...                                                  ...   \n",
       "15006                                                      \n",
       "15007  A laser is a device that emits light through a...   \n",
       "15008                                                      \n",
       "15009                                                      \n",
       "15010                                                      \n",
       "\n",
       "                                                response        category  \n",
       "0      Virgin Australia commenced services on 31 Augu...       closed_qa  \n",
       "1                                                   Tope  classification  \n",
       "2      Camels use the fat in their humps to keep them...         open_qa  \n",
       "3                The name of the third daughter is Alice         open_qa  \n",
       "4             Tomoaki Komorida was born on July 10,1981.       closed_qa  \n",
       "...                                                  ...             ...  \n",
       "15006          Embrace the change and see the difference   brainstorming  \n",
       "15007  A laser is a device that emits light from an e...   summarization  \n",
       "15008  Road bikes are built to be ridden on asphalt a...         open_qa  \n",
       "15009  Real estate investors depend on precise, accur...      general_qa  \n",
       "15010  The Masters Tournament is a golf tournament he...      general_qa  \n",
       "\n",
       "[15011 rows x 5 columns]"
      ]
     },
     "execution_count": 91,
     "metadata": {},
     "output_type": "execute_result"
    }
   ],
   "source": [
    "parse = [is_question(instruction) for instruction in d_data.loc[:, 'instruction']]\n",
    "p_data = pd.concat([pd.Series(parse), d_data], axis=1)\n",
    "p_data.columns = ['parse', 'instruction', 'context', 'response', 'category']\n",
    "p_data.head()"
   ]
  },
  {
   "cell_type": "code",
   "execution_count": 97,
   "metadata": {},
   "outputs": [],
   "source": [
    "p_data[['parse', 'instruction','category']].to_csv('dolly-instruction_parse_15k.csv', na_rep='NULL')"
   ]
  }
 ],
 "metadata": {
  "kernelspec": {
   "display_name": "Python 3",
   "language": "python",
   "name": "python3"
  },
  "language_info": {
   "codemirror_mode": {
    "name": "ipython",
    "version": 3
   },
   "file_extension": ".py",
   "mimetype": "text/x-python",
   "name": "python",
   "nbconvert_exporter": "python",
   "pygments_lexer": "ipython3",
   "version": "3.10.12"
  },
  "orig_nbformat": 4
 },
 "nbformat": 4,
 "nbformat_minor": 2
}
