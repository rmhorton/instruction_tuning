{
 "cells": [
  {
   "cell_type": "markdown",
   "metadata": {},
   "source": [
    "# Extract common question forms in Dolly data\n",
    "\n",
    "By parsing the Dolly corpus questions we can identify if it's a question, and what form of question it is. Then this can be used to check its assigned category, and the embedding-based classification of the question type. \n",
    "\n",
    "jma 30 Aug 2023"
   ]
  },
  {
   "cell_type": "code",
   "execution_count": 2,
   "metadata": {},
   "outputs": [],
   "source": [
    "# Load json version \n",
    "import re, os, sys\n",
    "import spacy as sp          # A production quality linguistic parser\n",
    "import numpy as np\n",
    "import pandas as pd\n",
    "\n",
    "DATA = '/mnt/512G_hd/repos/dolly_data/databricks-dolly-15k.jsonl'"
   ]
  },
  {
   "cell_type": "code",
   "execution_count": 3,
   "metadata": {},
   "outputs": [
    {
     "data": {
      "text/plain": [
       "Index(['instruction', 'context', 'response', 'category'], dtype='object')"
      ]
     },
     "execution_count": 3,
     "metadata": {},
     "output_type": "execute_result"
    }
   ],
   "source": [
    "d_data = pd.read_json(DATA, lines=True)\n",
    "d_data.columns"
   ]
  },
  {
   "cell_type": "code",
   "execution_count": 4,
   "metadata": {},
   "outputs": [],
   "source": [
    "# instruction and category columns to csv\n",
    "d_data[['instruction', 'category']].to_csv('dolly-15k.csv')"
   ]
  },
  {
   "cell_type": "code",
   "execution_count": 5,
   "metadata": {},
   "outputs": [],
   "source": [
    "# load the parser for English\n",
    "english_language = sp.load('en_core_web_trf')\n"
   ]
  },
  {
   "cell_type": "code",
   "execution_count": 16,
   "metadata": {},
   "outputs": [
    {
     "data": {
      "text/plain": [
       "[('will', 'MD', 'verb, modal auxiliary', 'AUX', 'aux'),\n",
       " ('be', 'VB', 'verb, base form', 'AUX', 'aux'),\n",
       " ('play', 'VBG', 'verb, gerund or present participle', 'VERB', 'ROOT'),\n",
       " ('against', 'IN', 'conjunction, subordinating or preposition', 'ADP', 'prep'),\n",
       " ('when', 'WRB', 'wh-adverb', 'SCONJ', 'advmod'),\n",
       " ('he', 'PRP', 'pronoun, personal', 'PRON', 'nsubj'),\n",
       " ('of', 'IN', 'conjunction, subordinating or preposition', 'ADP', 'prep'),\n",
       " ('his', 'PRP$', 'pronoun, possessive', 'PRON', 'poss')]"
      ]
     },
     "execution_count": 16,
     "metadata": {},
     "output_type": "execute_result"
    }
   ],
   "source": [
    "# Parse a sentence.  This give us the raw features to tell if its a question. \n",
    "\n",
    "def run_parse(the_sentence):\n",
    "    phrase = english_language(the_sentence)\n",
    "    # print([(i, i.label_) for i in phrase.ents]) We dont need the entities. \n",
    "    the_parse = []\n",
    "    for token in phrase:\n",
    "        # 'Stop' words are the closed classes e.g. pronouns, of words.  Only a small finite number of words make up the class.\n",
    "        # Stop words  plus the auxilaries and verb give us all the gramatical structure we need.\n",
    "\n",
    "        if token.is_stop:\n",
    "            # print(token.text, token.lemma_, end = '\\t')\n",
    "            # print(token.is_stop, token.tag_, token.pos_, token.dep_)\n",
    "            the_parse.append((token.lemma_, token.tag_, sp.explain(token.tag_), token.pos_, token.dep_))\n",
    "            # The root is the main verb in the sentence\n",
    "        elif token.dep_ =='ROOT':\n",
    "            the_parse.append((token.lemma_, token.tag_, sp.explain(token.tag_), token.pos_, token.dep_))\n",
    "            # Any words after the main verb are not needed. \n",
    "            break  \n",
    "    return the_parse\n",
    "\n",
    "run_parse('Will Kyle Van Zyl be playing against when he scored 36 of his teams 61 points?')"
   ]
  },
  {
   "cell_type": "markdown",
   "metadata": {},
   "source": []
  },
  {
   "cell_type": "code",
   "execution_count": null,
   "metadata": {},
   "outputs": [],
   "source": [
    "# 1st rule -  inversion:  auxiliary followed by noun phase "
   ]
  }
 ],
 "metadata": {
  "kernelspec": {
   "display_name": "Python 3",
   "language": "python",
   "name": "python3"
  },
  "language_info": {
   "codemirror_mode": {
    "name": "ipython",
    "version": 3
   },
   "file_extension": ".py",
   "mimetype": "text/x-python",
   "name": "python",
   "nbconvert_exporter": "python",
   "pygments_lexer": "ipython3",
   "version": "3.10.12"
  },
  "orig_nbformat": 4
 },
 "nbformat": 4,
 "nbformat_minor": 2
}
