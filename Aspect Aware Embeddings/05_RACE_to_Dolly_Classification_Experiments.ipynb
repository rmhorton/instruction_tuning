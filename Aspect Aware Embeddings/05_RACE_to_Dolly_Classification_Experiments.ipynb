{
 "cells": [
  {
   "cell_type": "code",
   "execution_count": 1,
   "metadata": {},
   "outputs": [],
   "source": [
    "import pandas as pd\n",
    "import numpy as np\n",
    "from sklearn.model_selection import train_test_split\n",
    "from sklearn.linear_model import LogisticRegressionCV\n",
    "from sklearn.linear_model import LogisticRegression\n",
    "from sklearn.preprocessing import LabelEncoder\n",
    "from sklearn.metrics import classification_report, confusion_matrix\n",
    "from sklearn.cluster import KMeans\n",
    "import matplotlib.pyplot as plt\n",
    "import seaborn as sns"
   ]
  },
  {
   "cell_type": "code",
   "execution_count": 2,
   "metadata": {},
   "outputs": [],
   "source": [
    "race_df = pd.read_parquet('./data/race_train_prepared.parquet')\n",
    "race_df = race_df[race_df['difficulty'] != 'H']\n",
    "\n",
    "dolly_cqa_df = pd.read_parquet('./data/dolly_cqa_prepared.parquet')"
   ]
  },
  {
   "cell_type": "code",
   "execution_count": 3,
   "metadata": {},
   "outputs": [],
   "source": [
    "def train_lr_classifier(df, embeddings_col, y_col):\n",
    "    # Convert the list of lists in X_colname to a numpy array\n",
    "    X = np.array(df[embeddings_col].tolist())\n",
    "    \n",
    "    y = df[y_col]\n",
    "    \n",
    "    # Label encoding the target variable\n",
    "    le = LabelEncoder()\n",
    "    y_encoded = le.fit_transform(y)\n",
    "    \n",
    "    # Initialize LR classifier\n",
    "    clf = LogisticRegressionCV(cv=5, scoring='f1_macro', max_iter=10000, n_jobs=-1)\n",
    "    # clf = LogisticRegression(multi_class='multinomial', solver='lbfgs', max_iter=10000)\n",
    "\n",
    "    # Fit the classifier\n",
    "    clf.fit(X, y_encoded)\n",
    "\n",
    "    return le, clf"
   ]
  },
  {
   "cell_type": "code",
   "execution_count": 4,
   "metadata": {},
   "outputs": [],
   "source": [
    "le, clf = train_lr_classifier(df=race_df, embeddings_col='embeddings_mini_lm', y_col='difficulty')"
   ]
  },
  {
   "cell_type": "code",
   "execution_count": 5,
   "metadata": {},
   "outputs": [],
   "source": [
    "def get_predictions(df, le, clf, embeddings_col, y_col):\n",
    "    # Convert the list of lists in X_colname to a numpy array\n",
    "    X = np.array(df[embeddings_col].tolist())\n",
    "    \n",
    "    y = df[y_col]\n",
    "\n",
    "    # Label encoding the target variable\n",
    "    y_encoded = le.transform(y)\n",
    "\n",
    "    # Predictions\n",
    "    y_pred_encoded = clf.predict(X)\n",
    "\n",
    "    # Reverse-transform the predicted and actual labels to their original values\n",
    "    y_pred = le.inverse_transform(y_pred_encoded)\n",
    "    y_test = le.inverse_transform(y_encoded)\n",
    "\n",
    "    # Printing the classification report\n",
    "    print(classification_report(y_test, y_pred))\n",
    "\n",
    "    # Plotting the confusion matrix\n",
    "    cm = confusion_matrix(y_test, y_pred)\n",
    "    plt.figure(figsize=(7,5))\n",
    "    sns.heatmap(cm, annot=True, fmt='g', cmap='Blues')\n",
    "    plt.xlabel('Predicted')\n",
    "    plt.ylabel('Actual')\n",
    "    plt.show()"
   ]
  },
  {
   "cell_type": "code",
   "execution_count": 6,
   "metadata": {},
   "outputs": [
    {
     "name": "stdout",
     "output_type": "stream",
     "text": [
      "              precision    recall  f1-score   support\n",
      "\n",
      "           C       0.94      0.93      0.94     12671\n",
      "           M       0.93      0.94      0.93     11943\n",
      "\n",
      "    accuracy                           0.94     24614\n",
      "   macro avg       0.94      0.94      0.94     24614\n",
      "weighted avg       0.94      0.94      0.94     24614\n",
      "\n"
     ]
    },
    {
     "name": "stderr",
     "output_type": "stream",
     "text": [
      "c:\\Users\\vilce\\AppData\\Local\\miniconda3\\envs\\llm_env\\Lib\\site-packages\\IPython\\core\\pylabtools.py:152: MatplotlibDeprecationWarning: savefig() got unexpected keyword argument \"orientation\" which is no longer supported as of 3.3 and will become an error two minor releases later\n",
      "  fig.canvas.print_figure(bytes_io, **kw)\n",
      "c:\\Users\\vilce\\AppData\\Local\\miniconda3\\envs\\llm_env\\Lib\\site-packages\\IPython\\core\\pylabtools.py:152: MatplotlibDeprecationWarning: savefig() got unexpected keyword argument \"facecolor\" which is no longer supported as of 3.3 and will become an error two minor releases later\n",
      "  fig.canvas.print_figure(bytes_io, **kw)\n",
      "c:\\Users\\vilce\\AppData\\Local\\miniconda3\\envs\\llm_env\\Lib\\site-packages\\IPython\\core\\pylabtools.py:152: MatplotlibDeprecationWarning: savefig() got unexpected keyword argument \"edgecolor\" which is no longer supported as of 3.3 and will become an error two minor releases later\n",
      "  fig.canvas.print_figure(bytes_io, **kw)\n",
      "c:\\Users\\vilce\\AppData\\Local\\miniconda3\\envs\\llm_env\\Lib\\site-packages\\IPython\\core\\pylabtools.py:152: MatplotlibDeprecationWarning: savefig() got unexpected keyword argument \"bbox_inches_restore\" which is no longer supported as of 3.3 and will become an error two minor releases later\n",
      "  fig.canvas.print_figure(bytes_io, **kw)\n"
     ]
    },
    {
     "data": {
      "image/png": "[encoded data removed]",
      "text/plain": [
       "<Figure size 700x500 with 2 Axes>"
      ]
     },
     "metadata": {},
     "output_type": "display_data"
    }
   ],
   "source": [
    "get_predictions(df=race_df, le=le, clf=clf, embeddings_col='embeddings_mini_lm', y_col='difficulty')"
   ]
  },
  {
   "cell_type": "code",
   "execution_count": 7,
   "metadata": {},
   "outputs": [],
   "source": [
    "# race_df['score_easy'] = clf.predict_proba(X=np.array(race_df['embeddings_mini_lm'].tolist()))[:,0]\n",
    "# race_df['score_hard'] = clf.predict_proba(X=np.array(race_df['embeddings_mini_lm'].tolist()))[:,1]\n",
    "# race_df['score_medium'] = clf.predict_proba(X=np.array(race_df['embeddings_mini_lm'].tolist()))[:,2]\n",
    "\n",
    "# race_df['w_easy_embeddings'] = race_df['embeddings_mini_lm'].apply(lambda x: x * clf.coef_[0])\n",
    "# race_df['w_hard_embeddings'] = race_df['embeddings_mini_lm'].apply(lambda x: x * clf.coef_[1])\n",
    "# race_df['w_medium_embeddings'] = race_df['embeddings_mini_lm'].apply(lambda x: x * clf.coef_[2])\n",
    "# race_df['iw_easy_embeddings'] = race_df['embeddings_mini_lm'].apply(lambda x: x / clf.coef_[0])\n",
    "# race_df['iw_hard_embeddings'] = race_df['embeddings_mini_lm'].apply(lambda x: x / clf.coef_[1])\n",
    "# race_df['iw_medium_embeddings'] = race_df['embeddings_mini_lm'].apply(lambda x: x / clf.coef_[2])\n",
    "\n",
    "race_df['score'] = clf.predict_proba(X=np.array(race_df['embeddings_mini_lm'].tolist()))[:,1]\n",
    "race_df['w_embeddings'] = race_df['embeddings_mini_lm'].apply(lambda x: x * clf.coef_[0])\n",
    "race_df['iw_embeddings'] = race_df['embeddings_mini_lm'].apply(lambda x: x / clf.coef_[0])\n",
    "\n",
    "dolly_cqa_df['score'] = clf.predict_proba(X=np.array(dolly_cqa_df['embeddings_mini_lm'].tolist()))[:,1]\n",
    "dolly_cqa_df['w_embeddings'] = dolly_cqa_df['embeddings_mini_lm'].apply(lambda x: x * clf.coef_[0])\n",
    "dolly_cqa_df['iw_embeddings'] = dolly_cqa_df['embeddings_mini_lm'].apply(lambda x: x / clf.coef_[0])"
   ]
  },
  {
   "cell_type": "code",
   "execution_count": 8,
   "metadata": {},
   "outputs": [
    {
     "name": "stderr",
     "output_type": "stream",
     "text": [
      "c:\\Users\\vilce\\AppData\\Local\\miniconda3\\envs\\llm_env\\Lib\\site-packages\\sklearn\\cluster\\_kmeans.py:1382: UserWarning: KMeans is known to have a memory leak on Windows with MKL, when there are less chunks than available threads. You can avoid it by setting the environment variable OMP_NUM_THREADS=6.\n",
      "  warnings.warn(\n",
      "c:\\Users\\vilce\\AppData\\Local\\miniconda3\\envs\\llm_env\\Lib\\site-packages\\sklearn\\cluster\\_kmeans.py:1382: UserWarning: KMeans is known to have a memory leak on Windows with MKL, when there are less chunks than available threads. You can avoid it by setting the environment variable OMP_NUM_THREADS=6.\n",
      "  warnings.warn(\n",
      "c:\\Users\\vilce\\AppData\\Local\\miniconda3\\envs\\llm_env\\Lib\\site-packages\\sklearn\\cluster\\_kmeans.py:1382: UserWarning: KMeans is known to have a memory leak on Windows with MKL, when there are less chunks than available threads. You can avoid it by setting the environment variable OMP_NUM_THREADS=6.\n",
      "  warnings.warn(\n"
     ]
    }
   ],
   "source": [
    "def get_cluster_stats(df, cluster_col, score_col):\n",
    "    return df.groupby(cluster_col).agg(\n",
    "        score_mean=pd.NamedAgg(column=score_col, aggfunc='mean'), \n",
    "        score_std =pd.NamedAgg(column=score_col, aggfunc='std')\n",
    "    ).reset_index(drop=False).rename(columns={cluster_col: 'cluster_id'})\n",
    "\n",
    "n_clusters = 20\n",
    "seed=0\n",
    "\n",
    "race_uw_kmeans = KMeans(n_clusters=n_clusters, random_state=seed, n_init=\"auto\").fit( [v for v in race_df['embeddings_mini_lm']])\n",
    "race_w_kmeans = KMeans(n_clusters=n_clusters, random_state=seed, n_init=\"auto\").fit( [v for v in race_df['w_embeddings']])\n",
    "race_iw_kmeans = KMeans(n_clusters=n_clusters, random_state=seed, n_init=\"auto\").fit( [v for v in race_df['iw_embeddings']])\n",
    "\n",
    "dolly_uw_kmeans = KMeans(n_clusters=n_clusters, random_state=seed, n_init=\"auto\").fit( [v for v in dolly_cqa_df['embeddings_mini_lm']])\n",
    "dolly_w_kmeans = KMeans(n_clusters=n_clusters, random_state=seed, n_init=\"auto\").fit( [v for v in dolly_cqa_df['w_embeddings']])\n",
    "dolly_iw_kmeans = KMeans(n_clusters=n_clusters, random_state=seed, n_init=\"auto\").fit( [v for v in dolly_cqa_df['iw_embeddings']])\n",
    "\n",
    "race_df['uw_kmeans'] = race_uw_kmeans.labels_\n",
    "race_df['w_kmeans'] = race_w_kmeans.labels_\n",
    "race_df['iw_kmeans'] = race_iw_kmeans.labels_\n",
    "\n",
    "dolly_cqa_df['uw_kmeans'] = dolly_uw_kmeans.labels_\n",
    "dolly_cqa_df['w_kmeans'] = dolly_w_kmeans.labels_\n",
    "dolly_cqa_df['iw_kmeans'] = dolly_iw_kmeans.labels_\n",
    "\n",
    "# cs_unweighted = get_cluster_stats(dd2, 'unweighted_kmeans', 'score')\n",
    "# cs_weighted = get_cluster_stats(dd2, 'weighted_kmeans', 'score')\n",
    "# cs_inverse_weighted = get_cluster_stats(dd2, 'inverse_weighted_kmeans', 'score')"
   ]
  },
  {
   "cell_type": "code",
   "execution_count": 9,
   "metadata": {},
   "outputs": [],
   "source": [
    "race_cluster_df = race_df[['uw_kmeans', 'w_kmeans', 'iw_kmeans', 'score']]\n",
    "race_cluster_df = pd.melt(race_cluster_df, id_vars=['score'], var_name='weighting', value_name='cluster_id')\n",
    "race_cluster_df = race_cluster_df.groupby([\"weighting\", \"cluster_id\"]).mean().reset_index()\n",
    "\n",
    "dolly_cluster_df = dolly_cqa_df[['uw_kmeans', 'w_kmeans', 'iw_kmeans', 'score']]\n",
    "dolly_cluster_df = pd.melt(dolly_cluster_df, id_vars=['score'], var_name='weighting', value_name='cluster_id')\n",
    "dolly_cluster_df = dolly_cluster_df.groupby([\"weighting\", \"cluster_id\"]).mean().reset_index()"
   ]
  },
  {
   "cell_type": "code",
   "execution_count": 10,
   "metadata": {},
   "outputs": [
    {
     "data": {
      "text/plain": [
       "[Text(0, 0.5, '')]"
      ]
     },
     "execution_count": 10,
     "metadata": {},
     "output_type": "execute_result"
    },
    {
     "name": "stderr",
     "output_type": "stream",
     "text": [
      "c:\\Users\\vilce\\AppData\\Local\\miniconda3\\envs\\llm_env\\Lib\\site-packages\\IPython\\core\\pylabtools.py:152: MatplotlibDeprecationWarning: savefig() got unexpected keyword argument \"orientation\" which is no longer supported as of 3.3 and will become an error two minor releases later\n",
      "  fig.canvas.print_figure(bytes_io, **kw)\n",
      "c:\\Users\\vilce\\AppData\\Local\\miniconda3\\envs\\llm_env\\Lib\\site-packages\\IPython\\core\\pylabtools.py:152: MatplotlibDeprecationWarning: savefig() got unexpected keyword argument \"facecolor\" which is no longer supported as of 3.3 and will become an error two minor releases later\n",
      "  fig.canvas.print_figure(bytes_io, **kw)\n",
      "c:\\Users\\vilce\\AppData\\Local\\miniconda3\\envs\\llm_env\\Lib\\site-packages\\IPython\\core\\pylabtools.py:152: MatplotlibDeprecationWarning: savefig() got unexpected keyword argument \"edgecolor\" which is no longer supported as of 3.3 and will become an error two minor releases later\n",
      "  fig.canvas.print_figure(bytes_io, **kw)\n",
      "c:\\Users\\vilce\\AppData\\Local\\miniconda3\\envs\\llm_env\\Lib\\site-packages\\IPython\\core\\pylabtools.py:152: MatplotlibDeprecationWarning: savefig() got unexpected keyword argument \"bbox_inches_restore\" which is no longer supported as of 3.3 and will become an error two minor releases later\n",
      "  fig.canvas.print_figure(bytes_io, **kw)\n"
     ]
    },
    {
     "data": {
      "image/png": "[encoded data removed]",
      "text/plain": [
       "<Figure size 500x100 with 1 Axes>"
      ]
     },
     "metadata": {},
     "output_type": "display_data"
    }
   ],
   "source": [
    "sns.set(rc={\"figure.figsize\":(5, 1)})\n",
    "ax = sns.stripplot(x='score', y='weighting', data=race_cluster_df, jitter=True, hue='weighting', dodge=True, legend=False)\n",
    "ax.set(ylabel=None)"
   ]
  },
  {
   "cell_type": "code",
   "execution_count": 11,
   "metadata": {},
   "outputs": [
    {
     "data": {
      "text/html": [
       "<div>\n",
       "<style scoped>\n",
       "    .dataframe tbody tr th:only-of-type {\n",
       "        vertical-align: middle;\n",
       "    }\n",
       "\n",
       "    .dataframe tbody tr th {\n",
       "        vertical-align: top;\n",
       "    }\n",
       "\n",
       "    .dataframe thead th {\n",
       "        text-align: right;\n",
       "    }\n",
       "</style>\n",
       "<table border=\"1\" class=\"dataframe\">\n",
       "  <thead>\n",
       "    <tr style=\"text-align: right;\">\n",
       "      <th></th>\n",
       "      <th>score</th>\n",
       "    </tr>\n",
       "    <tr>\n",
       "      <th>weighting</th>\n",
       "      <th></th>\n",
       "    </tr>\n",
       "  </thead>\n",
       "  <tbody>\n",
       "    <tr>\n",
       "      <th>iw_kmeans</th>\n",
       "      <td>0.166535</td>\n",
       "    </tr>\n",
       "    <tr>\n",
       "      <th>uw_kmeans</th>\n",
       "      <td>0.306882</td>\n",
       "    </tr>\n",
       "    <tr>\n",
       "      <th>w_kmeans</th>\n",
       "      <td>0.333887</td>\n",
       "    </tr>\n",
       "  </tbody>\n",
       "</table>\n",
       "</div>"
      ],
      "text/plain": [
       "              score\n",
       "weighting          \n",
       "iw_kmeans  0.166535\n",
       "uw_kmeans  0.306882\n",
       "w_kmeans   0.333887"
      ]
     },
     "execution_count": 11,
     "metadata": {},
     "output_type": "execute_result"
    }
   ],
   "source": [
    "race_cluster_df[['weighting', 'score']].groupby('weighting').std() # standard deviation of mean scores across clusters"
   ]
  },
  {
   "cell_type": "code",
   "execution_count": 12,
   "metadata": {},
   "outputs": [
    {
     "data": {
      "text/plain": [
       "<matplotlib.legend.Legend at 0x26b8ae08710>"
      ]
     },
     "execution_count": 12,
     "metadata": {},
     "output_type": "execute_result"
    },
    {
     "name": "stderr",
     "output_type": "stream",
     "text": [
      "c:\\Users\\vilce\\AppData\\Local\\miniconda3\\envs\\llm_env\\Lib\\site-packages\\IPython\\core\\pylabtools.py:152: MatplotlibDeprecationWarning: savefig() got unexpected keyword argument \"orientation\" which is no longer supported as of 3.3 and will become an error two minor releases later\n",
      "  fig.canvas.print_figure(bytes_io, **kw)\n",
      "c:\\Users\\vilce\\AppData\\Local\\miniconda3\\envs\\llm_env\\Lib\\site-packages\\IPython\\core\\pylabtools.py:152: MatplotlibDeprecationWarning: savefig() got unexpected keyword argument \"facecolor\" which is no longer supported as of 3.3 and will become an error two minor releases later\n",
      "  fig.canvas.print_figure(bytes_io, **kw)\n",
      "c:\\Users\\vilce\\AppData\\Local\\miniconda3\\envs\\llm_env\\Lib\\site-packages\\IPython\\core\\pylabtools.py:152: MatplotlibDeprecationWarning: savefig() got unexpected keyword argument \"edgecolor\" which is no longer supported as of 3.3 and will become an error two minor releases later\n",
      "  fig.canvas.print_figure(bytes_io, **kw)\n",
      "c:\\Users\\vilce\\AppData\\Local\\miniconda3\\envs\\llm_env\\Lib\\site-packages\\IPython\\core\\pylabtools.py:152: MatplotlibDeprecationWarning: savefig() got unexpected keyword argument \"bbox_inches_restore\" which is no longer supported as of 3.3 and will become an error two minor releases later\n",
      "  fig.canvas.print_figure(bytes_io, **kw)\n"
     ]
    },
    {
     "data": {
      "image/png": "[encoded data removed]",
      "text/plain": [
       "<Figure size 500x100 with 1 Axes>"
      ]
     },
     "metadata": {},
     "output_type": "display_data"
    }
   ],
   "source": [
    "g = sns.boxplot(x='score', y ='weighting', data = race_cluster_df, hue ='weighting')\n",
    "g.legend([],[], frameon=False)"
   ]
  },
  {
   "cell_type": "code",
   "execution_count": 13,
   "metadata": {},
   "outputs": [
    {
     "data": {
      "text/plain": [
       "[Text(0, 0.5, '')]"
      ]
     },
     "execution_count": 13,
     "metadata": {},
     "output_type": "execute_result"
    },
    {
     "name": "stderr",
     "output_type": "stream",
     "text": [
      "c:\\Users\\vilce\\AppData\\Local\\miniconda3\\envs\\llm_env\\Lib\\site-packages\\IPython\\core\\pylabtools.py:152: MatplotlibDeprecationWarning: savefig() got unexpected keyword argument \"orientation\" which is no longer supported as of 3.3 and will become an error two minor releases later\n",
      "  fig.canvas.print_figure(bytes_io, **kw)\n",
      "c:\\Users\\vilce\\AppData\\Local\\miniconda3\\envs\\llm_env\\Lib\\site-packages\\IPython\\core\\pylabtools.py:152: MatplotlibDeprecationWarning: savefig() got unexpected keyword argument \"facecolor\" which is no longer supported as of 3.3 and will become an error two minor releases later\n",
      "  fig.canvas.print_figure(bytes_io, **kw)\n",
      "c:\\Users\\vilce\\AppData\\Local\\miniconda3\\envs\\llm_env\\Lib\\site-packages\\IPython\\core\\pylabtools.py:152: MatplotlibDeprecationWarning: savefig() got unexpected keyword argument \"edgecolor\" which is no longer supported as of 3.3 and will become an error two minor releases later\n",
      "  fig.canvas.print_figure(bytes_io, **kw)\n",
      "c:\\Users\\vilce\\AppData\\Local\\miniconda3\\envs\\llm_env\\Lib\\site-packages\\IPython\\core\\pylabtools.py:152: MatplotlibDeprecationWarning: savefig() got unexpected keyword argument \"bbox_inches_restore\" which is no longer supported as of 3.3 and will become an error two minor releases later\n",
      "  fig.canvas.print_figure(bytes_io, **kw)\n"
     ]
    },
    {
     "data": {
      "image/png": "[encoded data removed]",
      "text/plain": [
       "<Figure size 500x100 with 1 Axes>"
      ]
     },
     "metadata": {},
     "output_type": "display_data"
    }
   ],
   "source": [
    "sns.set(rc={\"figure.figsize\":(5, 1)})\n",
    "ax = sns.stripplot(x='score', y='weighting', data=dolly_cluster_df, jitter=True, hue='weighting', dodge=True, legend=False)\n",
    "ax.set(ylabel=None)"
   ]
  },
  {
   "cell_type": "code",
   "execution_count": 14,
   "metadata": {},
   "outputs": [
    {
     "data": {
      "text/html": [
       "<div>\n",
       "<style scoped>\n",
       "    .dataframe tbody tr th:only-of-type {\n",
       "        vertical-align: middle;\n",
       "    }\n",
       "\n",
       "    .dataframe tbody tr th {\n",
       "        vertical-align: top;\n",
       "    }\n",
       "\n",
       "    .dataframe thead th {\n",
       "        text-align: right;\n",
       "    }\n",
       "</style>\n",
       "<table border=\"1\" class=\"dataframe\">\n",
       "  <thead>\n",
       "    <tr style=\"text-align: right;\">\n",
       "      <th></th>\n",
       "      <th>score</th>\n",
       "    </tr>\n",
       "    <tr>\n",
       "      <th>weighting</th>\n",
       "      <th></th>\n",
       "    </tr>\n",
       "  </thead>\n",
       "  <tbody>\n",
       "    <tr>\n",
       "      <th>iw_kmeans</th>\n",
       "      <td>0.040927</td>\n",
       "    </tr>\n",
       "    <tr>\n",
       "      <th>uw_kmeans</th>\n",
       "      <td>0.069550</td>\n",
       "    </tr>\n",
       "    <tr>\n",
       "      <th>w_kmeans</th>\n",
       "      <td>0.094920</td>\n",
       "    </tr>\n",
       "  </tbody>\n",
       "</table>\n",
       "</div>"
      ],
      "text/plain": [
       "              score\n",
       "weighting          \n",
       "iw_kmeans  0.040927\n",
       "uw_kmeans  0.069550\n",
       "w_kmeans   0.094920"
      ]
     },
     "execution_count": 14,
     "metadata": {},
     "output_type": "execute_result"
    }
   ],
   "source": [
    "dolly_cluster_df[['weighting', 'score']].groupby('weighting').std() # standard deviation of mean scores across clusters"
   ]
  },
  {
   "cell_type": "code",
   "execution_count": 15,
   "metadata": {},
   "outputs": [
    {
     "data": {
      "text/plain": [
       "<matplotlib.legend.Legend at 0x26b8ae31710>"
      ]
     },
     "execution_count": 15,
     "metadata": {},
     "output_type": "execute_result"
    },
    {
     "name": "stderr",
     "output_type": "stream",
     "text": [
      "c:\\Users\\vilce\\AppData\\Local\\miniconda3\\envs\\llm_env\\Lib\\site-packages\\IPython\\core\\pylabtools.py:152: MatplotlibDeprecationWarning: savefig() got unexpected keyword argument \"orientation\" which is no longer supported as of 3.3 and will become an error two minor releases later\n",
      "  fig.canvas.print_figure(bytes_io, **kw)\n",
      "c:\\Users\\vilce\\AppData\\Local\\miniconda3\\envs\\llm_env\\Lib\\site-packages\\IPython\\core\\pylabtools.py:152: MatplotlibDeprecationWarning: savefig() got unexpected keyword argument \"facecolor\" which is no longer supported as of 3.3 and will become an error two minor releases later\n",
      "  fig.canvas.print_figure(bytes_io, **kw)\n",
      "c:\\Users\\vilce\\AppData\\Local\\miniconda3\\envs\\llm_env\\Lib\\site-packages\\IPython\\core\\pylabtools.py:152: MatplotlibDeprecationWarning: savefig() got unexpected keyword argument \"edgecolor\" which is no longer supported as of 3.3 and will become an error two minor releases later\n",
      "  fig.canvas.print_figure(bytes_io, **kw)\n",
      "c:\\Users\\vilce\\AppData\\Local\\miniconda3\\envs\\llm_env\\Lib\\site-packages\\IPython\\core\\pylabtools.py:152: MatplotlibDeprecationWarning: savefig() got unexpected keyword argument \"bbox_inches_restore\" which is no longer supported as of 3.3 and will become an error two minor releases later\n",
      "  fig.canvas.print_figure(bytes_io, **kw)\n"
     ]
    },
    {
     "data": {
      "image/png": "[encoded data removed]",
      "text/plain": [
       "<Figure size 500x100 with 1 Axes>"
      ]
     },
     "metadata": {},
     "output_type": "display_data"
    }
   ],
   "source": [
    "g = sns.boxplot(x='score', y ='weighting', data = dolly_cluster_df, hue ='weighting')\n",
    "g.legend([],[], frameon=False)"
   ]
  },
  {
   "cell_type": "code",
   "execution_count": null,
   "metadata": {},
   "outputs": [],
   "source": []
  }
 ],
 "metadata": {
  "kernelspec": {
   "display_name": "Python 3",
   "language": "python",
   "name": "python3"
  },
  "language_info": {
   "codemirror_mode": {
    "name": "ipython",
    "version": 3
   },
   "file_extension": ".py",
   "mimetype": "text/x-python",
   "name": "python",
   "nbconvert_exporter": "python",
   "pygments_lexer": "ipython3",
   "version": "3.11.4"
  },
  "orig_nbformat": 4
 },
 "nbformat": 4,
 "nbformat_minor": 2
}
