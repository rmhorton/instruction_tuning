{
 "cells": [
  {
   "cell_type": "code",
   "execution_count": 1,
   "metadata": {},
   "outputs": [],
   "source": [
    "import pandas as pd\n",
    "import numpy as np\n",
    "from sklearn.model_selection import KFold\n",
    "from sklearn.linear_model import LinearRegression\n",
    "from sklearn.metrics import mean_squared_error, mean_absolute_error, r2_score\n",
    "from sklearn.cluster import KMeans\n",
    "import matplotlib.pyplot as plt\n",
    "import seaborn as sns"
   ]
  },
  {
   "cell_type": "code",
   "execution_count": 2,
   "metadata": {},
   "outputs": [
    {
     "data": {
      "text/html": [
       "<div>\n",
       "<style scoped>\n",
       "    .dataframe tbody tr th:only-of-type {\n",
       "        vertical-align: middle;\n",
       "    }\n",
       "\n",
       "    .dataframe tbody tr th {\n",
       "        vertical-align: top;\n",
       "    }\n",
       "\n",
       "    .dataframe thead th {\n",
       "        text-align: right;\n",
       "    }\n",
       "</style>\n",
       "<table border=\"1\" class=\"dataframe\">\n",
       "  <thead>\n",
       "    <tr style=\"text-align: right;\">\n",
       "      <th></th>\n",
       "      <th>instruction</th>\n",
       "      <th>context</th>\n",
       "      <th>response</th>\n",
       "      <th>category</th>\n",
       "      <th>text</th>\n",
       "      <th>embeddings_mini_lm</th>\n",
       "      <th>embeddings_bge_large</th>\n",
       "      <th>fk_score</th>\n",
       "      <th>fk_score_categ</th>\n",
       "    </tr>\n",
       "  </thead>\n",
       "  <tbody>\n",
       "    <tr>\n",
       "      <th>0</th>\n",
       "      <td>When did Virgin Australia start operating?</td>\n",
       "      <td>Virgin Australia, the trading name of Virgin A...</td>\n",
       "      <td>Virgin Australia commenced services on 31 Augu...</td>\n",
       "      <td>closed_qa</td>\n",
       "      <td>### CONTEXT ###\\nVirgin Australia, the trading...</td>\n",
       "      <td>[0.07990753650665283, -0.04975801706314087, 0....</td>\n",
       "      <td>[0.5005730390548706, -0.46779343485832214, -1....</td>\n",
       "      <td>9.131896</td>\n",
       "      <td>easy</td>\n",
       "    </tr>\n",
       "    <tr>\n",
       "      <th>1</th>\n",
       "      <td>When was Tomoaki Komorida born?</td>\n",
       "      <td>Komorida was born in Kumamoto Prefecture on Ju...</td>\n",
       "      <td>Tomoaki Komorida was born on July 10,1981.</td>\n",
       "      <td>closed_qa</td>\n",
       "      <td>### CONTEXT ###\\nKomorida was born in Kumamoto...</td>\n",
       "      <td>[-0.011252421885728836, -0.04460098594427109, ...</td>\n",
       "      <td>[0.64762282371521, 0.43752172589302063, -0.047...</td>\n",
       "      <td>7.643152</td>\n",
       "      <td>easy</td>\n",
       "    </tr>\n",
       "    <tr>\n",
       "      <th>2</th>\n",
       "      <td>Given a reference text about Lollapalooza, whe...</td>\n",
       "      <td>Lollapalooza /ˌlɒləpəˈluːzə/ (Lolla) is an ann...</td>\n",
       "      <td>Lollapalooze is an annual musical festival hel...</td>\n",
       "      <td>closed_qa</td>\n",
       "      <td>### CONTEXT ###\\nLollapalooza /ˌlɒləpəˈluːzə/ ...</td>\n",
       "      <td>[0.06580415368080139, -0.0366082526743412, 0.0...</td>\n",
       "      <td>[0.5144393444061279, 0.18275967240333557, -0.4...</td>\n",
       "      <td>11.617224</td>\n",
       "      <td>medium</td>\n",
       "    </tr>\n",
       "    <tr>\n",
       "      <th>3</th>\n",
       "      <td>Who was Kyle Van Zyl playing against when he s...</td>\n",
       "      <td>Van Zyl joined the Eastern Province Kings Acad...</td>\n",
       "      <td>Kyle Van Zyl was playing against Boland U21 wh...</td>\n",
       "      <td>closed_qa</td>\n",
       "      <td>### CONTEXT ###\\nVan Zyl joined the Eastern Pr...</td>\n",
       "      <td>[0.019957538694143295, 0.04702803120017052, -0...</td>\n",
       "      <td>[1.1888214349746704, 0.058644916862249374, -0....</td>\n",
       "      <td>11.474969</td>\n",
       "      <td>medium</td>\n",
       "    </tr>\n",
       "    <tr>\n",
       "      <th>4</th>\n",
       "      <td>Who was the first to record the Needles and Pi...</td>\n",
       "      <td>\"Needles and Pins\" is a rock song credited to ...</td>\n",
       "      <td>The first artist to record Needles and Pins so...</td>\n",
       "      <td>closed_qa</td>\n",
       "      <td>### CONTEXT ###\\n\"Needles and Pins\" is a rock ...</td>\n",
       "      <td>[-0.08916875720024109, 0.0042908587493002415, ...</td>\n",
       "      <td>[-0.08973768353462219, -0.17643515765666962, 0...</td>\n",
       "      <td>9.573611</td>\n",
       "      <td>easy</td>\n",
       "    </tr>\n",
       "    <tr>\n",
       "      <th>...</th>\n",
       "      <td>...</td>\n",
       "      <td>...</td>\n",
       "      <td>...</td>\n",
       "      <td>...</td>\n",
       "      <td>...</td>\n",
       "      <td>...</td>\n",
       "      <td>...</td>\n",
       "      <td>...</td>\n",
       "      <td>...</td>\n",
       "    </tr>\n",
       "    <tr>\n",
       "      <th>1456</th>\n",
       "      <td>How many world championships has Max Verstappe...</td>\n",
       "      <td>After winning the 2021 Abu Dhabi Grand Prix, V...</td>\n",
       "      <td>Max Verstappen has won 2 Formula One World Cha...</td>\n",
       "      <td>closed_qa</td>\n",
       "      <td>### CONTEXT ###\\nAfter winning the 2021 Abu Dh...</td>\n",
       "      <td>[0.044786978513002396, 0.0190593209117651, -0....</td>\n",
       "      <td>[0.5898312330245972, 0.14761556684970856, -0.4...</td>\n",
       "      <td>7.991569</td>\n",
       "      <td>easy</td>\n",
       "    </tr>\n",
       "    <tr>\n",
       "      <th>1457</th>\n",
       "      <td>What is the history of coffee?</td>\n",
       "      <td>The history of coffee dates back to centuries ...</td>\n",
       "      <td>Much of the early history of coffee was tied t...</td>\n",
       "      <td>closed_qa</td>\n",
       "      <td>### CONTEXT ###\\nThe history of coffee dates b...</td>\n",
       "      <td>[0.019176138564944267, 0.02772548422217369, -0...</td>\n",
       "      <td>[0.10451232641935349, 0.22819367051124573, -0....</td>\n",
       "      <td>11.447779</td>\n",
       "      <td>medium</td>\n",
       "    </tr>\n",
       "    <tr>\n",
       "      <th>1458</th>\n",
       "      <td>What are common florals found in Zigalga Natio...</td>\n",
       "      <td>Zigalga National Park (Russian: Национальный п...</td>\n",
       "      <td>Zigalga National Park has the majority of its ...</td>\n",
       "      <td>closed_qa</td>\n",
       "      <td>### CONTEXT ###\\nZigalga National Park (Russia...</td>\n",
       "      <td>[-0.026473581790924072, 0.09908297657966614, -...</td>\n",
       "      <td>[0.1897222250699997, 0.41683098673820496, 0.02...</td>\n",
       "      <td>12.950833</td>\n",
       "      <td>medium</td>\n",
       "    </tr>\n",
       "    <tr>\n",
       "      <th>1459</th>\n",
       "      <td>What is linux Bootloader</td>\n",
       "      <td>A bootloader, also spelled as boot loader or c...</td>\n",
       "      <td>A bootloader is a program written in machine c...</td>\n",
       "      <td>closed_qa</td>\n",
       "      <td>### CONTEXT ###\\nA bootloader, also spelled as...</td>\n",
       "      <td>[-0.05690043047070503, 0.05346180498600006, -0...</td>\n",
       "      <td>[0.32251039147377014, -0.2482924461364746, 0.0...</td>\n",
       "      <td>19.799659</td>\n",
       "      <td>hard</td>\n",
       "    </tr>\n",
       "    <tr>\n",
       "      <th>1460</th>\n",
       "      <td>What is one-child policy?</td>\n",
       "      <td>The term one-child policy refers to a populati...</td>\n",
       "      <td>The \"one-child policy\" was a Chinese populatio...</td>\n",
       "      <td>closed_qa</td>\n",
       "      <td>### CONTEXT ###\\nThe term one-child policy ref...</td>\n",
       "      <td>[-0.0973605215549469, 0.07983539998531342, 0.0...</td>\n",
       "      <td>[0.1447182148694992, 0.009392046369612217, -0....</td>\n",
       "      <td>17.604428</td>\n",
       "      <td>hard</td>\n",
       "    </tr>\n",
       "  </tbody>\n",
       "</table>\n",
       "<p>1461 rows × 9 columns</p>\n",
       "</div>"
      ],
      "text/plain": [
       "                                            instruction  \\\n",
       "0            When did Virgin Australia start operating?   \n",
       "1                       When was Tomoaki Komorida born?   \n",
       "2     Given a reference text about Lollapalooza, whe...   \n",
       "3     Who was Kyle Van Zyl playing against when he s...   \n",
       "4     Who was the first to record the Needles and Pi...   \n",
       "...                                                 ...   \n",
       "1456  How many world championships has Max Verstappe...   \n",
       "1457                     What is the history of coffee?   \n",
       "1458  What are common florals found in Zigalga Natio...   \n",
       "1459                           What is linux Bootloader   \n",
       "1460                          What is one-child policy?   \n",
       "\n",
       "                                                context  \\\n",
       "0     Virgin Australia, the trading name of Virgin A...   \n",
       "1     Komorida was born in Kumamoto Prefecture on Ju...   \n",
       "2     Lollapalooza /ˌlɒləpəˈluːzə/ (Lolla) is an ann...   \n",
       "3     Van Zyl joined the Eastern Province Kings Acad...   \n",
       "4     \"Needles and Pins\" is a rock song credited to ...   \n",
       "...                                                 ...   \n",
       "1456  After winning the 2021 Abu Dhabi Grand Prix, V...   \n",
       "1457  The history of coffee dates back to centuries ...   \n",
       "1458  Zigalga National Park (Russian: Национальный п...   \n",
       "1459  A bootloader, also spelled as boot loader or c...   \n",
       "1460  The term one-child policy refers to a populati...   \n",
       "\n",
       "                                               response   category  \\\n",
       "0     Virgin Australia commenced services on 31 Augu...  closed_qa   \n",
       "1            Tomoaki Komorida was born on July 10,1981.  closed_qa   \n",
       "2     Lollapalooze is an annual musical festival hel...  closed_qa   \n",
       "3     Kyle Van Zyl was playing against Boland U21 wh...  closed_qa   \n",
       "4     The first artist to record Needles and Pins so...  closed_qa   \n",
       "...                                                 ...        ...   \n",
       "1456  Max Verstappen has won 2 Formula One World Cha...  closed_qa   \n",
       "1457  Much of the early history of coffee was tied t...  closed_qa   \n",
       "1458  Zigalga National Park has the majority of its ...  closed_qa   \n",
       "1459  A bootloader is a program written in machine c...  closed_qa   \n",
       "1460  The \"one-child policy\" was a Chinese populatio...  closed_qa   \n",
       "\n",
       "                                                   text  \\\n",
       "0     ### CONTEXT ###\\nVirgin Australia, the trading...   \n",
       "1     ### CONTEXT ###\\nKomorida was born in Kumamoto...   \n",
       "2     ### CONTEXT ###\\nLollapalooza /ˌlɒləpəˈluːzə/ ...   \n",
       "3     ### CONTEXT ###\\nVan Zyl joined the Eastern Pr...   \n",
       "4     ### CONTEXT ###\\n\"Needles and Pins\" is a rock ...   \n",
       "...                                                 ...   \n",
       "1456  ### CONTEXT ###\\nAfter winning the 2021 Abu Dh...   \n",
       "1457  ### CONTEXT ###\\nThe history of coffee dates b...   \n",
       "1458  ### CONTEXT ###\\nZigalga National Park (Russia...   \n",
       "1459  ### CONTEXT ###\\nA bootloader, also spelled as...   \n",
       "1460  ### CONTEXT ###\\nThe term one-child policy ref...   \n",
       "\n",
       "                                     embeddings_mini_lm  \\\n",
       "0     [0.07990753650665283, -0.04975801706314087, 0....   \n",
       "1     [-0.011252421885728836, -0.04460098594427109, ...   \n",
       "2     [0.06580415368080139, -0.0366082526743412, 0.0...   \n",
       "3     [0.019957538694143295, 0.04702803120017052, -0...   \n",
       "4     [-0.08916875720024109, 0.0042908587493002415, ...   \n",
       "...                                                 ...   \n",
       "1456  [0.044786978513002396, 0.0190593209117651, -0....   \n",
       "1457  [0.019176138564944267, 0.02772548422217369, -0...   \n",
       "1458  [-0.026473581790924072, 0.09908297657966614, -...   \n",
       "1459  [-0.05690043047070503, 0.05346180498600006, -0...   \n",
       "1460  [-0.0973605215549469, 0.07983539998531342, 0.0...   \n",
       "\n",
       "                                   embeddings_bge_large   fk_score  \\\n",
       "0     [0.5005730390548706, -0.46779343485832214, -1....   9.131896   \n",
       "1     [0.64762282371521, 0.43752172589302063, -0.047...   7.643152   \n",
       "2     [0.5144393444061279, 0.18275967240333557, -0.4...  11.617224   \n",
       "3     [1.1888214349746704, 0.058644916862249374, -0....  11.474969   \n",
       "4     [-0.08973768353462219, -0.17643515765666962, 0...   9.573611   \n",
       "...                                                 ...        ...   \n",
       "1456  [0.5898312330245972, 0.14761556684970856, -0.4...   7.991569   \n",
       "1457  [0.10451232641935349, 0.22819367051124573, -0....  11.447779   \n",
       "1458  [0.1897222250699997, 0.41683098673820496, 0.02...  12.950833   \n",
       "1459  [0.32251039147377014, -0.2482924461364746, 0.0...  19.799659   \n",
       "1460  [0.1447182148694992, 0.009392046369612217, -0....  17.604428   \n",
       "\n",
       "     fk_score_categ  \n",
       "0              easy  \n",
       "1              easy  \n",
       "2            medium  \n",
       "3            medium  \n",
       "4              easy  \n",
       "...             ...  \n",
       "1456           easy  \n",
       "1457         medium  \n",
       "1458         medium  \n",
       "1459           hard  \n",
       "1460           hard  \n",
       "\n",
       "[1461 rows x 9 columns]"
      ]
     },
     "execution_count": 2,
     "metadata": {},
     "output_type": "execute_result"
    }
   ],
   "source": [
    "dolly_cqa_df = pd.read_parquet('./data/dolly_cqa_prepared.parquet')\n",
    "dolly_cqa_df"
   ]
  },
  {
   "cell_type": "code",
   "execution_count": 3,
   "metadata": {},
   "outputs": [],
   "source": [
    "def train_linear_regression_with_cv(df, embeddings_col, y_col):\n",
    "    X = np.array(df[embeddings_col].tolist())\n",
    "    X = X / np.linalg.norm(X, axis=1, keepdims=True)\n",
    "    \n",
    "    y = df[y_col].values\n",
    "    \n",
    "    kf = KFold(n_splits=7, shuffle=True, random_state=369)\n",
    "    \n",
    "    best_model = None\n",
    "    best_error = float('inf')\n",
    "    \n",
    "    for train_index, val_index in kf.split(df):\n",
    "        X_train, X_val = X[train_index], X[val_index]\n",
    "        y_train, y_val = y[train_index], y[val_index]\n",
    "        \n",
    "        model = LinearRegression()\n",
    "        model.fit(X_train, y_train)\n",
    "        \n",
    "        predictions = model.predict(X_val)\n",
    "        error = mean_squared_error(y_val, predictions)\n",
    "        \n",
    "        if error < best_error:\n",
    "            best_error = error\n",
    "            best_model = model\n",
    "    \n",
    "    return best_model"
   ]
  },
  {
   "cell_type": "code",
   "execution_count": 4,
   "metadata": {},
   "outputs": [],
   "source": [
    "clf = train_linear_regression_with_cv(df=dolly_cqa_df, embeddings_col='embeddings_mini_lm', y_col='fk_score')"
   ]
  },
  {
   "cell_type": "code",
   "execution_count": 5,
   "metadata": {},
   "outputs": [],
   "source": [
    "def get_predictions(df, clf, embeddings_col, y_col):\n",
    "    X = np.array(df[embeddings_col].tolist())\n",
    "    X = X / np.linalg.norm(X, axis=1, keepdims=True)\n",
    "    \n",
    "    y = df[y_col].values\n",
    "\n",
    "    y_pred = clf.predict(X)\n",
    "\n",
    "    print('MSE:', mean_squared_error(y, y_pred))\n",
    "    print('MAE:', mean_absolute_error(y, y_pred))\n",
    "    print('R2:', r2_score(y, y_pred))\n",
    "\n",
    "    plt.figure(figsize=(6, 4))\n",
    "    sns.scatterplot(x=y, y=y_pred)\n",
    "    plt.xlabel('True Values')\n",
    "    plt.ylabel('Predicted Values')\n",
    "    plt.grid(True)\n",
    "    plt.show()"
   ]
  },
  {
   "cell_type": "code",
   "execution_count": 6,
   "metadata": {},
   "outputs": [
    {
     "name": "stdout",
     "output_type": "stream",
     "text": [
      "MSE: 3.636588083024375\n",
      "MAE: 1.4695096306122626\n",
      "R2: 0.5548973514213369\n"
     ]
    },
    {
     "name": "stderr",
     "output_type": "stream",
     "text": [
      "c:\\Users\\vilce\\AppData\\Local\\miniconda3\\envs\\llm_env\\Lib\\site-packages\\IPython\\core\\pylabtools.py:152: MatplotlibDeprecationWarning: savefig() got unexpected keyword argument \"orientation\" which is no longer supported as of 3.3 and will become an error two minor releases later\n",
      "  fig.canvas.print_figure(bytes_io, **kw)\n",
      "c:\\Users\\vilce\\AppData\\Local\\miniconda3\\envs\\llm_env\\Lib\\site-packages\\IPython\\core\\pylabtools.py:152: MatplotlibDeprecationWarning: savefig() got unexpected keyword argument \"facecolor\" which is no longer supported as of 3.3 and will become an error two minor releases later\n",
      "  fig.canvas.print_figure(bytes_io, **kw)\n",
      "c:\\Users\\vilce\\AppData\\Local\\miniconda3\\envs\\llm_env\\Lib\\site-packages\\IPython\\core\\pylabtools.py:152: MatplotlibDeprecationWarning: savefig() got unexpected keyword argument \"edgecolor\" which is no longer supported as of 3.3 and will become an error two minor releases later\n",
      "  fig.canvas.print_figure(bytes_io, **kw)\n",
      "c:\\Users\\vilce\\AppData\\Local\\miniconda3\\envs\\llm_env\\Lib\\site-packages\\IPython\\core\\pylabtools.py:152: MatplotlibDeprecationWarning: savefig() got unexpected keyword argument \"bbox_inches_restore\" which is no longer supported as of 3.3 and will become an error two minor releases later\n",
      "  fig.canvas.print_figure(bytes_io, **kw)\n"
     ]
    },
    {
     "data": {
      "image/png": "[encoded data removed]",
      "text/plain": [
       "<Figure size 600x400 with 1 Axes>"
      ]
     },
     "metadata": {},
     "output_type": "display_data"
    }
   ],
   "source": [
    "get_predictions(df=dolly_cqa_df, clf=clf, embeddings_col='embeddings_mini_lm', y_col='fk_score')"
   ]
  },
  {
   "cell_type": "code",
   "execution_count": 7,
   "metadata": {},
   "outputs": [],
   "source": [
    "# dolly_cqa_df['score_easy'] = clf.predict_proba(X=np.array(dolly_cqa_df['embeddings_bge_large'].tolist()))[:,0]\n",
    "# dolly_cqa_df['score_hard'] = clf.predict_proba(X=np.array(dolly_cqa_df['embeddings_bge_large'].tolist()))[:,1]\n",
    "# dolly_cqa_df['score_medium'] = clf.predict_proba(X=np.array(dolly_cqa_df['embeddings_bge_large'].tolist()))[:,2]\n",
    "\n",
    "# dolly_cqa_df['w_easy_embeddings'] = dolly_cqa_df['embeddings_bge_large'].apply(lambda x: x * clf.coef_[0])\n",
    "# dolly_cqa_df['w_hard_embeddings'] = dolly_cqa_df['embeddings_bge_large'].apply(lambda x: x * clf.coef_[1])\n",
    "# dolly_cqa_df['w_medium_embeddings'] = dolly_cqa_df['embeddings_bge_large'].apply(lambda x: x * clf.coef_[2])\n",
    "# dolly_cqa_df['iw_easy_embeddings'] = dolly_cqa_df['embeddings_bge_large'].apply(lambda x: x / clf.coef_[0])\n",
    "# dolly_cqa_df['iw_hard_embeddings'] = dolly_cqa_df['embeddings_bge_large'].apply(lambda x: x / clf.coef_[1])\n",
    "# dolly_cqa_df['iw_medium_embeddings'] = dolly_cqa_df['embeddings_bge_large'].apply(lambda x: x / clf.coef_[2])\n",
    "\n",
    "dolly_cqa_df['absolute_error'] = np.abs(np.array(dolly_cqa_df['fk_score']) - clf.predict(X=np.array(dolly_cqa_df['embeddings_mini_lm'].tolist())))\n",
    "dolly_cqa_df['w_embeddings'] = dolly_cqa_df['embeddings_mini_lm'].apply(lambda x: x * clf.coef_)\n",
    "dolly_cqa_df['iw_embeddings'] = dolly_cqa_df['embeddings_mini_lm'].apply(lambda x: x / clf.coef_)"
   ]
  },
  {
   "cell_type": "code",
   "execution_count": 8,
   "metadata": {},
   "outputs": [
    {
     "name": "stderr",
     "output_type": "stream",
     "text": [
      "c:\\Users\\vilce\\AppData\\Local\\miniconda3\\envs\\llm_env\\Lib\\site-packages\\sklearn\\cluster\\_kmeans.py:1382: UserWarning: KMeans is known to have a memory leak on Windows with MKL, when there are less chunks than available threads. You can avoid it by setting the environment variable OMP_NUM_THREADS=6.\n",
      "  warnings.warn(\n",
      "c:\\Users\\vilce\\AppData\\Local\\miniconda3\\envs\\llm_env\\Lib\\site-packages\\sklearn\\cluster\\_kmeans.py:1382: UserWarning: KMeans is known to have a memory leak on Windows with MKL, when there are less chunks than available threads. You can avoid it by setting the environment variable OMP_NUM_THREADS=6.\n",
      "  warnings.warn(\n",
      "c:\\Users\\vilce\\AppData\\Local\\miniconda3\\envs\\llm_env\\Lib\\site-packages\\sklearn\\cluster\\_kmeans.py:1382: UserWarning: KMeans is known to have a memory leak on Windows with MKL, when there are less chunks than available threads. You can avoid it by setting the environment variable OMP_NUM_THREADS=6.\n",
      "  warnings.warn(\n"
     ]
    }
   ],
   "source": [
    "def get_cluster_stats(df, cluster_col, score_col):\n",
    "    return df.groupby(cluster_col).agg(\n",
    "        score_mean=pd.NamedAgg(column=score_col, aggfunc='mean'), \n",
    "        score_std =pd.NamedAgg(column=score_col, aggfunc='std')\n",
    "    ).reset_index(drop=False).rename(columns={cluster_col: 'cluster_id'})\n",
    "\n",
    "n_clusters = 50\n",
    "seed=0\n",
    "uw_kmeans = KMeans(n_clusters=n_clusters, random_state=seed, n_init=\"auto\").fit( [v for v in dolly_cqa_df['embeddings_mini_lm']])\n",
    "w_kmeans = KMeans(n_clusters=n_clusters, random_state=seed, n_init=\"auto\").fit( [v for v in dolly_cqa_df['w_embeddings']])\n",
    "iw_kmeans = KMeans(n_clusters=n_clusters, random_state=seed, n_init=\"auto\").fit( [v for v in dolly_cqa_df['iw_embeddings']])\n",
    "\n",
    "dolly_cqa_df['uw_kmeans'] = uw_kmeans.labels_\n",
    "dolly_cqa_df['w_kmeans'] = w_kmeans.labels_\n",
    "dolly_cqa_df['iw_kmeans'] = iw_kmeans.labels_\n",
    "\n",
    "# cs_unweighted = get_cluster_stats(dd2, 'unweighted_kmeans', 'score')\n",
    "# cs_weighted = get_cluster_stats(dd2, 'weighted_kmeans', 'score')\n",
    "# cs_inverse_weighted = get_cluster_stats(dd2, 'inverse_weighted_kmeans', 'score')"
   ]
  },
  {
   "cell_type": "code",
   "execution_count": 9,
   "metadata": {},
   "outputs": [],
   "source": [
    "cluster_df = dolly_cqa_df[['uw_kmeans', 'w_kmeans', 'iw_kmeans', 'absolute_error']]\n",
    "cluster_df = pd.melt(cluster_df, id_vars=['absolute_error'], var_name='weighting', value_name='cluster_id')\n",
    "cluster_df = cluster_df.groupby([\"weighting\", \"cluster_id\"]).mean().reset_index()"
   ]
  },
  {
   "cell_type": "code",
   "execution_count": 10,
   "metadata": {},
   "outputs": [
    {
     "data": {
      "text/plain": [
       "[Text(0, 0.5, '')]"
      ]
     },
     "execution_count": 10,
     "metadata": {},
     "output_type": "execute_result"
    },
    {
     "name": "stderr",
     "output_type": "stream",
     "text": [
      "c:\\Users\\vilce\\AppData\\Local\\miniconda3\\envs\\llm_env\\Lib\\site-packages\\IPython\\core\\pylabtools.py:152: MatplotlibDeprecationWarning: savefig() got unexpected keyword argument \"orientation\" which is no longer supported as of 3.3 and will become an error two minor releases later\n",
      "  fig.canvas.print_figure(bytes_io, **kw)\n",
      "c:\\Users\\vilce\\AppData\\Local\\miniconda3\\envs\\llm_env\\Lib\\site-packages\\IPython\\core\\pylabtools.py:152: MatplotlibDeprecationWarning: savefig() got unexpected keyword argument \"facecolor\" which is no longer supported as of 3.3 and will become an error two minor releases later\n",
      "  fig.canvas.print_figure(bytes_io, **kw)\n",
      "c:\\Users\\vilce\\AppData\\Local\\miniconda3\\envs\\llm_env\\Lib\\site-packages\\IPython\\core\\pylabtools.py:152: MatplotlibDeprecationWarning: savefig() got unexpected keyword argument \"edgecolor\" which is no longer supported as of 3.3 and will become an error two minor releases later\n",
      "  fig.canvas.print_figure(bytes_io, **kw)\n",
      "c:\\Users\\vilce\\AppData\\Local\\miniconda3\\envs\\llm_env\\Lib\\site-packages\\IPython\\core\\pylabtools.py:152: MatplotlibDeprecationWarning: savefig() got unexpected keyword argument \"bbox_inches_restore\" which is no longer supported as of 3.3 and will become an error two minor releases later\n",
      "  fig.canvas.print_figure(bytes_io, **kw)\n"
     ]
    },
    {
     "data": {
      "image/png": "[encoded data removed]",
      "text/plain": [
       "<Figure size 500x100 with 1 Axes>"
      ]
     },
     "metadata": {},
     "output_type": "display_data"
    }
   ],
   "source": [
    "sns.set(rc={\"figure.figsize\":(5, 1)})\n",
    "ax = sns.stripplot(x='absolute_error', y='weighting', data=cluster_df, jitter=True, hue='weighting', dodge=True, legend=False)\n",
    "ax.set(ylabel=None)"
   ]
  },
  {
   "cell_type": "code",
   "execution_count": 11,
   "metadata": {},
   "outputs": [
    {
     "data": {
      "text/html": [
       "<div>\n",
       "<style scoped>\n",
       "    .dataframe tbody tr th:only-of-type {\n",
       "        vertical-align: middle;\n",
       "    }\n",
       "\n",
       "    .dataframe tbody tr th {\n",
       "        vertical-align: top;\n",
       "    }\n",
       "\n",
       "    .dataframe thead th {\n",
       "        text-align: right;\n",
       "    }\n",
       "</style>\n",
       "<table border=\"1\" class=\"dataframe\">\n",
       "  <thead>\n",
       "    <tr style=\"text-align: right;\">\n",
       "      <th></th>\n",
       "      <th>absolute_error</th>\n",
       "    </tr>\n",
       "    <tr>\n",
       "      <th>weighting</th>\n",
       "      <th></th>\n",
       "    </tr>\n",
       "  </thead>\n",
       "  <tbody>\n",
       "    <tr>\n",
       "      <th>iw_kmeans</th>\n",
       "      <td>0.254102</td>\n",
       "    </tr>\n",
       "    <tr>\n",
       "      <th>uw_kmeans</th>\n",
       "      <td>0.274293</td>\n",
       "    </tr>\n",
       "    <tr>\n",
       "      <th>w_kmeans</th>\n",
       "      <td>0.267141</td>\n",
       "    </tr>\n",
       "  </tbody>\n",
       "</table>\n",
       "</div>"
      ],
      "text/plain": [
       "           absolute_error\n",
       "weighting                \n",
       "iw_kmeans        0.254102\n",
       "uw_kmeans        0.274293\n",
       "w_kmeans         0.267141"
      ]
     },
     "execution_count": 11,
     "metadata": {},
     "output_type": "execute_result"
    }
   ],
   "source": [
    "cluster_df[['weighting', 'absolute_error']].groupby('weighting').std() # standard deviation of mean scores across clusters"
   ]
  },
  {
   "cell_type": "code",
   "execution_count": 12,
   "metadata": {},
   "outputs": [
    {
     "data": {
      "text/plain": [
       "<matplotlib.legend.Legend at 0x2118bed2a10>"
      ]
     },
     "execution_count": 12,
     "metadata": {},
     "output_type": "execute_result"
    },
    {
     "name": "stderr",
     "output_type": "stream",
     "text": [
      "c:\\Users\\vilce\\AppData\\Local\\miniconda3\\envs\\llm_env\\Lib\\site-packages\\IPython\\core\\pylabtools.py:152: MatplotlibDeprecationWarning: savefig() got unexpected keyword argument \"orientation\" which is no longer supported as of 3.3 and will become an error two minor releases later\n",
      "  fig.canvas.print_figure(bytes_io, **kw)\n",
      "c:\\Users\\vilce\\AppData\\Local\\miniconda3\\envs\\llm_env\\Lib\\site-packages\\IPython\\core\\pylabtools.py:152: MatplotlibDeprecationWarning: savefig() got unexpected keyword argument \"facecolor\" which is no longer supported as of 3.3 and will become an error two minor releases later\n",
      "  fig.canvas.print_figure(bytes_io, **kw)\n",
      "c:\\Users\\vilce\\AppData\\Local\\miniconda3\\envs\\llm_env\\Lib\\site-packages\\IPython\\core\\pylabtools.py:152: MatplotlibDeprecationWarning: savefig() got unexpected keyword argument \"edgecolor\" which is no longer supported as of 3.3 and will become an error two minor releases later\n",
      "  fig.canvas.print_figure(bytes_io, **kw)\n",
      "c:\\Users\\vilce\\AppData\\Local\\miniconda3\\envs\\llm_env\\Lib\\site-packages\\IPython\\core\\pylabtools.py:152: MatplotlibDeprecationWarning: savefig() got unexpected keyword argument \"bbox_inches_restore\" which is no longer supported as of 3.3 and will become an error two minor releases later\n",
      "  fig.canvas.print_figure(bytes_io, **kw)\n"
     ]
    },
    {
     "data": {
      "image/png": "[encoded data removed]",
      "text/plain": [
       "<Figure size 500x100 with 1 Axes>"
      ]
     },
     "metadata": {},
     "output_type": "display_data"
    }
   ],
   "source": [
    "g = sns.boxplot(x='absolute_error', y ='weighting', data = cluster_df, hue ='weighting')\n",
    "g.legend([],[], frameon=False)"
   ]
  },
  {
   "cell_type": "code",
   "execution_count": null,
   "metadata": {},
   "outputs": [],
   "source": []
  }
 ],
 "metadata": {
  "kernelspec": {
   "display_name": "Python 3",
   "language": "python",
   "name": "python3"
  },
  "language_info": {
   "codemirror_mode": {
    "name": "ipython",
    "version": 3
   },
   "file_extension": ".py",
   "mimetype": "text/x-python",
   "name": "python",
   "nbconvert_exporter": "python",
   "pygments_lexer": "ipython3",
   "version": "3.11.4"
  },
  "orig_nbformat": 4
 },
 "nbformat": 4,
 "nbformat_minor": 2
}
