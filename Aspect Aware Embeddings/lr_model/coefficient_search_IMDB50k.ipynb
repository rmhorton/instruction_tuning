{
 "cells": [
  {
   "cell_type": "markdown",
   "id": "03d984dc-bc89-44cb-ba83-a02b8eb70b93",
   "metadata": {},
   "source": [
    "# Using the coefficients of a logistic regression model as a query vector\n",
    "\n",
    "Rather than using a logistic regression classifier to score each example in a dataset so that we can find the highest-scoring cases, we show here an approach to use the vector of coefficients from that model as a query in a vector search. Because this approach will be amenable to approximate vector search, it promises to be vastly more scalable than traditional model scoring.\n",
    "\n",
    "Here we demonstrate this process on the '[IMDB sentiment](https://www.kaggle.com/datasets/lakshmi25npathi/imdb-dataset-of-50k-movie-reviews)' dataset from Kaggle. This dataset is available from other locations as well (the original paper about it was from  Stanford), but the Kaggle version is convenient in that it is formatted as a CSV file that can be easily loaded into a Pandas dataframe. However, you need to log into Kaggle to download it."
   ]
  },
  {
   "cell_type": "code",
   "execution_count": 3,
   "id": "9ef19c59-f8ea-4d18-aedd-b9379463fa03",
   "metadata": {},
   "outputs": [
    {
     "data": {
      "text/html": [
       "<div>\n",
       "<style scoped>\n",
       "    .dataframe tbody tr th:only-of-type {\n",
       "        vertical-align: middle;\n",
       "    }\n",
       "\n",
       "    .dataframe tbody tr th {\n",
       "        vertical-align: top;\n",
       "    }\n",
       "\n",
       "    .dataframe thead th {\n",
       "        text-align: right;\n",
       "    }\n",
       "</style>\n",
       "<table border=\"1\" class=\"dataframe\">\n",
       "  <thead>\n",
       "    <tr style=\"text-align: right;\">\n",
       "      <th></th>\n",
       "      <th>review</th>\n",
       "      <th>sentiment</th>\n",
       "    </tr>\n",
       "  </thead>\n",
       "  <tbody>\n",
       "    <tr>\n",
       "      <th>0</th>\n",
       "      <td>One of the other reviewers has mentioned that ...</td>\n",
       "      <td>positive</td>\n",
       "    </tr>\n",
       "    <tr>\n",
       "      <th>1</th>\n",
       "      <td>A wonderful little production. &lt;br /&gt;&lt;br /&gt;The...</td>\n",
       "      <td>positive</td>\n",
       "    </tr>\n",
       "    <tr>\n",
       "      <th>2</th>\n",
       "      <td>I thought this was a wonderful way to spend ti...</td>\n",
       "      <td>positive</td>\n",
       "    </tr>\n",
       "    <tr>\n",
       "      <th>3</th>\n",
       "      <td>Basically there's a family where a little boy ...</td>\n",
       "      <td>negative</td>\n",
       "    </tr>\n",
       "    <tr>\n",
       "      <th>4</th>\n",
       "      <td>Petter Mattei's \"Love in the Time of Money\" is...</td>\n",
       "      <td>positive</td>\n",
       "    </tr>\n",
       "  </tbody>\n",
       "</table>\n",
       "</div>"
      ],
      "text/plain": [
       "                                              review sentiment\n",
       "0  One of the other reviewers has mentioned that ...  positive\n",
       "1  A wonderful little production. <br /><br />The...  positive\n",
       "2  I thought this was a wonderful way to spend ti...  positive\n",
       "3  Basically there's a family where a little boy ...  negative\n",
       "4  Petter Mattei's \"Love in the Time of Money\" is...  positive"
      ]
     },
     "execution_count": 3,
     "metadata": {},
     "output_type": "execute_result"
    }
   ],
   "source": [
    "import pandas as pd\n",
    "import numpy as np\n",
    "import os\n",
    "from zipfile import ZipFile\n",
    "from sklearn.linear_model import LogisticRegressionCV\n",
    "from sentence_transformers import SentenceTransformer\n",
    "\n",
    "ST_MODEL = 'all-MiniLM-L6-v2'\n",
    "\n",
    "file = ZipFile(\"data/archive.zip\")\n",
    "text_df = pd.read_csv(file.open(\"IMDB Dataset.csv\"), encoding='utf8') # 'latin1'\n",
    "text_df.head()"
   ]
  },
  {
   "cell_type": "code",
   "execution_count": 4,
   "id": "b69a0648-a152-41ec-b832-1d71345d48d9",
   "metadata": {},
   "outputs": [
    {
     "name": "stdout",
     "output_type": "stream",
     "text": [
      "Load featurized data\n"
     ]
    },
    {
     "data": {
      "text/html": [
       "<div>\n",
       "<style scoped>\n",
       "    .dataframe tbody tr th:only-of-type {\n",
       "        vertical-align: middle;\n",
       "    }\n",
       "\n",
       "    .dataframe tbody tr th {\n",
       "        vertical-align: top;\n",
       "    }\n",
       "\n",
       "    .dataframe thead th {\n",
       "        text-align: right;\n",
       "    }\n",
       "</style>\n",
       "<table border=\"1\" class=\"dataframe\">\n",
       "  <thead>\n",
       "    <tr style=\"text-align: right;\">\n",
       "      <th></th>\n",
       "      <th>review</th>\n",
       "      <th>sentiment</th>\n",
       "      <th>vector</th>\n",
       "    </tr>\n",
       "  </thead>\n",
       "  <tbody>\n",
       "    <tr>\n",
       "      <th>0</th>\n",
       "      <td>One of the other reviewers has mentioned that ...</td>\n",
       "      <td>positive</td>\n",
       "      <td>[0.030099309980869293, 0.050417669117450714, -...</td>\n",
       "    </tr>\n",
       "    <tr>\n",
       "      <th>1</th>\n",
       "      <td>A wonderful little production. &lt;br /&gt;&lt;br /&gt;The...</td>\n",
       "      <td>positive</td>\n",
       "      <td>[-0.012201860547065735, 0.05196147784590721, -...</td>\n",
       "    </tr>\n",
       "    <tr>\n",
       "      <th>2</th>\n",
       "      <td>I thought this was a wonderful way to spend ti...</td>\n",
       "      <td>positive</td>\n",
       "      <td>[0.014258158393204212, -0.0791383758187294, 0....</td>\n",
       "    </tr>\n",
       "    <tr>\n",
       "      <th>3</th>\n",
       "      <td>Basically there's a family where a little boy ...</td>\n",
       "      <td>negative</td>\n",
       "      <td>[-0.041720371693372726, 0.010464085265994072, ...</td>\n",
       "    </tr>\n",
       "    <tr>\n",
       "      <th>4</th>\n",
       "      <td>Petter Mattei's \"Love in the Time of Money\" is...</td>\n",
       "      <td>positive</td>\n",
       "      <td>[-0.03167529031634331, 0.00642420444637537, -0...</td>\n",
       "    </tr>\n",
       "    <tr>\n",
       "      <th>...</th>\n",
       "      <td>...</td>\n",
       "      <td>...</td>\n",
       "      <td>...</td>\n",
       "    </tr>\n",
       "    <tr>\n",
       "      <th>49995</th>\n",
       "      <td>I thought this movie did a down right good job...</td>\n",
       "      <td>positive</td>\n",
       "      <td>[-0.031536709517240524, -0.06321507692337036, ...</td>\n",
       "    </tr>\n",
       "    <tr>\n",
       "      <th>49996</th>\n",
       "      <td>Bad plot, bad dialogue, bad acting, idiotic di...</td>\n",
       "      <td>negative</td>\n",
       "      <td>[-0.04839408025145531, -0.08552412688732147, 0...</td>\n",
       "    </tr>\n",
       "    <tr>\n",
       "      <th>49997</th>\n",
       "      <td>I am a Catholic taught in parochial elementary...</td>\n",
       "      <td>negative</td>\n",
       "      <td>[-0.03935423120856285, -0.002203170442953706, ...</td>\n",
       "    </tr>\n",
       "    <tr>\n",
       "      <th>49998</th>\n",
       "      <td>I'm going to have to disagree with the previou...</td>\n",
       "      <td>negative</td>\n",
       "      <td>[-0.01833348162472248, -0.026902485638856888, ...</td>\n",
       "    </tr>\n",
       "    <tr>\n",
       "      <th>49999</th>\n",
       "      <td>No one expects the Star Trek movies to be high...</td>\n",
       "      <td>negative</td>\n",
       "      <td>[-0.03784305974841118, -0.06780193001031876, 0...</td>\n",
       "    </tr>\n",
       "  </tbody>\n",
       "</table>\n",
       "<p>50000 rows × 3 columns</p>\n",
       "</div>"
      ],
      "text/plain": [
       "                                                  review sentiment  \\\n",
       "0      One of the other reviewers has mentioned that ...  positive   \n",
       "1      A wonderful little production. <br /><br />The...  positive   \n",
       "2      I thought this was a wonderful way to spend ti...  positive   \n",
       "3      Basically there's a family where a little boy ...  negative   \n",
       "4      Petter Mattei's \"Love in the Time of Money\" is...  positive   \n",
       "...                                                  ...       ...   \n",
       "49995  I thought this movie did a down right good job...  positive   \n",
       "49996  Bad plot, bad dialogue, bad acting, idiotic di...  negative   \n",
       "49997  I am a Catholic taught in parochial elementary...  negative   \n",
       "49998  I'm going to have to disagree with the previou...  negative   \n",
       "49999  No one expects the Star Trek movies to be high...  negative   \n",
       "\n",
       "                                                  vector  \n",
       "0      [0.030099309980869293, 0.050417669117450714, -...  \n",
       "1      [-0.012201860547065735, 0.05196147784590721, -...  \n",
       "2      [0.014258158393204212, -0.0791383758187294, 0....  \n",
       "3      [-0.041720371693372726, 0.010464085265994072, ...  \n",
       "4      [-0.03167529031634331, 0.00642420444637537, -0...  \n",
       "...                                                  ...  \n",
       "49995  [-0.031536709517240524, -0.06321507692337036, ...  \n",
       "49996  [-0.04839408025145531, -0.08552412688732147, 0...  \n",
       "49997  [-0.03935423120856285, -0.002203170442953706, ...  \n",
       "49998  [-0.01833348162472248, -0.026902485638856888, ...  \n",
       "49999  [-0.03784305974841118, -0.06780193001031876, 0...  \n",
       "\n",
       "[50000 rows x 3 columns]"
      ]
     },
     "execution_count": 4,
     "metadata": {},
     "output_type": "execute_result"
    }
   ],
   "source": [
    "# Featurization takes several minutes without a GPU, so cache it.\n",
    "featurized_data_file = 'IMDB_sentiment.parquet'\n",
    "\n",
    "if  os.path.exists(featurized_data_file):\n",
    "    print('Load featurized data')\n",
    "    text_df = pd.read_parquet(featurized_data_file)\n",
    "else:\n",
    "    print('Featurize data')\n",
    "    sentxformer = SentenceTransformer(ST_MODEL)\n",
    "    text_df['vector'] = sentxformer.encode(text_df['review'].values).tolist()\n",
    "    text_df.to_parquet(featurized_data_file)\n",
    "\n",
    "text_df"
   ]
  },
  {
   "cell_type": "code",
   "execution_count": 35,
   "id": "e8e213ac-d57f-4aee-bc22-d9c32f548051",
   "metadata": {},
   "outputs": [],
   "source": [
    "from sklearn.model_selection import train_test_split\n",
    "\n",
    "# train, test = train_test_split(text_df, test_size=0.2)\n",
    "\n",
    "train = text_df[0:25000].copy()\n",
    "test = text_df[25000:].copy()\n",
    "\n",
    "X_train = [v for v in train['vector']]\n",
    "y_train = [ s == 'positive' for s in train['sentiment'] ]\n",
    "\n",
    "X_test = [v for v in test['vector']]\n",
    "y_test = [ s == 'positive' for s in test['sentiment'] ]"
   ]
  },
  {
   "cell_type": "code",
   "execution_count": 36,
   "id": "e83946aa-28fc-4b7f-a0fc-2609319994fa",
   "metadata": {},
   "outputs": [
    {
     "name": "stdout",
     "output_type": "stream",
     "text": [
      "text_df [('positive', 25000), ('negative', 25000)]\n",
      "train [('negative', 12526), ('positive', 12474)]\n",
      "test [('positive', 12526), ('negative', 12474)]\n"
     ]
    }
   ],
   "source": [
    "from collections import Counter\n",
    "print('text_df', Counter(text_df['sentiment']).most_common())\n",
    "print('train', Counter(train['sentiment']).most_common())\n",
    "print('test', Counter(test['sentiment']).most_common())\n"
   ]
  },
  {
   "cell_type": "code",
   "execution_count": 40,
   "id": "0c25fdc8-8232-45c6-90ed-34d5da6a71d0",
   "metadata": {},
   "outputs": [
    {
     "data": {
      "text/plain": [
       "0.8171593772481998"
      ]
     },
     "execution_count": 40,
     "metadata": {},
     "output_type": "execute_result"
    }
   ],
   "source": [
    "# clf = LogisticRegressionCV(cv=5, scoring='roc_auc', n_jobs=-1, max_iter=10000)\n",
    "\n",
    "clf = LogisticRegressionCV(cv=5, n_jobs=-1, max_iter=10000)  # default scoring metric is 'accuracy'\n",
    "# NOTE: it does not help to use more folds (which should give bigger training sets). I got about the same accuracy isung cv=15.\n",
    "\n",
    "clf.fit(X_train, y_train)\n"
   ]
  },
  {
   "cell_type": "markdown",
   "id": "d8c47e2d-619b-4f1b-b9f5-7318c94dcd73",
   "metadata": {},
   "source": [
    "# Find top-scoring sentences the old-fashioned way\n",
    "\n",
    "Here we use the classifier object to generate a score for each example."
   ]
  },
  {
   "cell_type": "code",
   "execution_count": 38,
   "id": "a01ff1c3-dc89-4942-9bc8-b3a5445ad586",
   "metadata": {},
   "outputs": [
    {
     "data": {
      "text/html": [
       "<div>\n",
       "<style scoped>\n",
       "    .dataframe tbody tr th:only-of-type {\n",
       "        vertical-align: middle;\n",
       "    }\n",
       "\n",
       "    .dataframe tbody tr th {\n",
       "        vertical-align: top;\n",
       "    }\n",
       "\n",
       "    .dataframe thead th {\n",
       "        text-align: right;\n",
       "    }\n",
       "</style>\n",
       "<table border=\"1\" class=\"dataframe\">\n",
       "  <thead>\n",
       "    <tr style=\"text-align: right;\">\n",
       "      <th></th>\n",
       "      <th>review</th>\n",
       "      <th>score</th>\n",
       "      <th>sentiment</th>\n",
       "    </tr>\n",
       "  </thead>\n",
       "  <tbody>\n",
       "    <tr>\n",
       "      <th>36819</th>\n",
       "      <td>I LOVE this movie! Beautifully funny and utter...</td>\n",
       "      <td>0.999997</td>\n",
       "      <td>positive</td>\n",
       "    </tr>\n",
       "    <tr>\n",
       "      <th>40795</th>\n",
       "      <td>I so much enjoyed this little musical fantasy ...</td>\n",
       "      <td>0.999982</td>\n",
       "      <td>positive</td>\n",
       "    </tr>\n",
       "    <tr>\n",
       "      <th>47466</th>\n",
       "      <td>In my opinion, the best movie ever. I love whe...</td>\n",
       "      <td>0.999977</td>\n",
       "      <td>positive</td>\n",
       "    </tr>\n",
       "    <tr>\n",
       "      <th>42797</th>\n",
       "      <td>Great movie, great actors, great soundtrack! I...</td>\n",
       "      <td>0.999938</td>\n",
       "      <td>positive</td>\n",
       "    </tr>\n",
       "    <tr>\n",
       "      <th>40722</th>\n",
       "      <td>Definitely one of my favourite movies. The sto...</td>\n",
       "      <td>0.999938</td>\n",
       "      <td>positive</td>\n",
       "    </tr>\n",
       "  </tbody>\n",
       "</table>\n",
       "</div>"
      ],
      "text/plain": [
       "                                                  review     score sentiment\n",
       "36819  I LOVE this movie! Beautifully funny and utter...  0.999997  positive\n",
       "40795  I so much enjoyed this little musical fantasy ...  0.999982  positive\n",
       "47466  In my opinion, the best movie ever. I love whe...  0.999977  positive\n",
       "42797  Great movie, great actors, great soundtrack! I...  0.999938  positive\n",
       "40722  Definitely one of my favourite movies. The sto...  0.999938  positive"
      ]
     },
     "execution_count": 38,
     "metadata": {},
     "output_type": "execute_result"
    }
   ],
   "source": [
    "test['score'] = clf.predict_proba(X_test)[:,1]\n",
    "\n",
    "test.sort_values('score', ascending=False).head(5)[['review', 'score', 'sentiment']]"
   ]
  },
  {
   "cell_type": "markdown",
   "id": "8f07c5e8-55ec-4a72-a7a6-17e4e628a95b",
   "metadata": {},
   "source": [
    "## How good is this model?\n",
    "\n",
    "Compare to the results reported by [Maas et al](https://ai.stanford.edu/~amaas/papers/wvSent_acl2011.pdf), Table 2. They report accuracies from 87.80 for bag of words to 88.89 for the approch described in their paper."
   ]
  },
  {
   "cell_type": "code",
   "execution_count": 41,
   "id": "f6d01e68-9609-4aaf-9dcf-965e72247bce",
   "metadata": {},
   "outputs": [
    {
     "data": {
      "text/plain": [
       "0.8171593772481998"
      ]
     },
     "execution_count": 41,
     "metadata": {},
     "output_type": "execute_result"
    }
   ],
   "source": [
    "# Accuracy on cross-validation\n",
    "# Note that we use the default scoring method (accuracy) to compare to Maas et al.\n",
    "get_mean_xval_score_for_binary_classifier = lambda clf: np.mean([np.max(v) for v in clf.scores_[True]])\n",
    "get_mean_xval_score_for_binary_classifier(clf)"
   ]
  },
  {
   "cell_type": "code",
   "execution_count": 55,
   "id": "3bf38f2d-8b06-4dd3-8a9c-009aa84accc1",
   "metadata": {},
   "outputs": [
    {
     "data": {
      "text/plain": [
       "0.8188"
      ]
     },
     "execution_count": 55,
     "metadata": {},
     "output_type": "execute_result"
    }
   ],
   "source": [
    "# Accuracy on held-out test set.\n",
    "get_accuracy = lambda predicted, observed: np.sum(predicted == observed)/len(observed)\n",
    "\n",
    "get_accuracy(clf.predict(X_test), y_test)"
   ]
  },
  {
   "cell_type": "markdown",
   "id": "65c77fd5-79a4-4ace-9844-26b12afad04a",
   "metadata": {},
   "source": [
    "## Try other classifiers"
   ]
  },
  {
   "cell_type": "code",
   "execution_count": 56,
   "id": "b9c7dbd7-4db4-4e52-924c-153d01b60239",
   "metadata": {},
   "outputs": [
    {
     "data": {
      "text/plain": [
       "0.83568"
      ]
     },
     "execution_count": 56,
     "metadata": {},
     "output_type": "execute_result"
    }
   ],
   "source": [
    "from sklearn import svm\n",
    "\n",
    "clf_svm = svm.SVC().fit(X_train, y_train)  # SVC(kernel='rbf') by default\n",
    "get_accuracy(clf_svm.predict(X_test), y_test)"
   ]
  },
  {
   "cell_type": "code",
   "execution_count": 62,
   "id": "c9434db6-c046-4d40-9a64-b817ecb6096d",
   "metadata": {},
   "outputs": [
    {
     "data": {
      "text/plain": [
       "0.81712"
      ]
     },
     "execution_count": 62,
     "metadata": {},
     "output_type": "execute_result"
    }
   ],
   "source": [
    "clf_lsvm = svm.SVC(kernel='linear').fit(X_train, y_train)\n",
    "get_accuracy(clf_lsvm.predict(X_test), y_test)"
   ]
  },
  {
   "cell_type": "code",
   "execution_count": 57,
   "id": "208907bf-19e9-43d0-b383-f4652b8bef7e",
   "metadata": {},
   "outputs": [
    {
     "data": {
      "text/plain": [
       "0.76792"
      ]
     },
     "execution_count": 57,
     "metadata": {},
     "output_type": "execute_result"
    }
   ],
   "source": [
    "from sklearn.ensemble import RandomForestClassifier\n",
    "\n",
    "clf_rf = RandomForestClassifier().fit(X_train, y_train)\n",
    "get_accuracy(clf_rf.predict(X_test), y_test)"
   ]
  },
  {
   "cell_type": "code",
   "execution_count": 60,
   "id": "0dfbdd9a-0034-4452-9a2d-327aada93d46",
   "metadata": {},
   "outputs": [
    {
     "data": {
      "text/plain": [
       "0.75792"
      ]
     },
     "execution_count": 60,
     "metadata": {},
     "output_type": "execute_result"
    }
   ],
   "source": [
    "from sklearn.ensemble import GradientBoostingClassifier\n",
    "\n",
    "clf_gbc = GradientBoostingClassifier(n_estimators=100, learning_rate=1.0, max_depth=3, random_state=0).fit(X_train, y_train)\n",
    "get_accuracy(clf_gbc.predict(X_test), y_test) # max_depth=1: 0.76012, max_depth=2: 0.76092"
   ]
  },
  {
   "cell_type": "markdown",
   "id": "1b22c974-828e-4725-a8e5-747b3616954f",
   "metadata": {},
   "source": [
    "# Find top-scoring sentences by similarity to coefficient vector\n",
    "\n",
    "This approach is more scalable because it can be used with approximate vector similarity approaches (Here we compute exact similarity against each example, but we could theoretically use approximate similarity. We'll show that later.)"
   ]
  },
  {
   "cell_type": "code",
   "execution_count": 38,
   "id": "3740d25b-7302-47e0-bff2-c06b42e9981a",
   "metadata": {},
   "outputs": [
    {
     "data": {
      "text/html": [
       "<div>\n",
       "<style scoped>\n",
       "    .dataframe tbody tr th:only-of-type {\n",
       "        vertical-align: middle;\n",
       "    }\n",
       "\n",
       "    .dataframe tbody tr th {\n",
       "        vertical-align: top;\n",
       "    }\n",
       "\n",
       "    .dataframe thead th {\n",
       "        text-align: right;\n",
       "    }\n",
       "</style>\n",
       "<table border=\"1\" class=\"dataframe\">\n",
       "  <thead>\n",
       "    <tr style=\"text-align: right;\">\n",
       "      <th></th>\n",
       "      <th>review</th>\n",
       "      <th>similarity</th>\n",
       "    </tr>\n",
       "  </thead>\n",
       "  <tbody>\n",
       "    <tr>\n",
       "      <th>42797</th>\n",
       "      <td>Great movie, great actors, great soundtrack! I...</td>\n",
       "      <td>7.961847</td>\n",
       "    </tr>\n",
       "    <tr>\n",
       "      <th>46615</th>\n",
       "      <td>I smiled through the whole film. The music is ...</td>\n",
       "      <td>7.870014</td>\n",
       "    </tr>\n",
       "    <tr>\n",
       "      <th>9857</th>\n",
       "      <td>I think this show is definitely the greatest s...</td>\n",
       "      <td>7.678084</td>\n",
       "    </tr>\n",
       "    <tr>\n",
       "      <th>22061</th>\n",
       "      <td>This is one of the most beautiful films I have...</td>\n",
       "      <td>7.627164</td>\n",
       "    </tr>\n",
       "    <tr>\n",
       "      <th>22967</th>\n",
       "      <td>Beautiful and touching movie. Rich colors, gre...</td>\n",
       "      <td>7.492701</td>\n",
       "    </tr>\n",
       "  </tbody>\n",
       "</table>\n",
       "</div>"
      ],
      "text/plain": [
       "                                                  review  similarity\n",
       "42797  Great movie, great actors, great soundtrack! I...    7.961847\n",
       "46615  I smiled through the whole film. The music is ...    7.870014\n",
       "9857   I think this show is definitely the greatest s...    7.678084\n",
       "22061  This is one of the most beautiful films I have...    7.627164\n",
       "22967  Beautiful and touching movie. Rich colors, gre...    7.492701"
      ]
     },
     "execution_count": 38,
     "metadata": {},
     "output_type": "execute_result"
    }
   ],
   "source": [
    "coef_vector = clf.coef_[0]\n",
    "\n",
    "test['similarity'] = [np.dot(coef_vector, v) for v in test['vector']]\n",
    "test.sort_values('similarity', ascending=False).head(5)[['review', 'similarity', 'sentiment']]"
   ]
  },
  {
   "cell_type": "markdown",
   "id": "a31cc7e5-df11-49dd-a5fc-d8c7f945f690",
   "metadata": {},
   "source": [
    "# About the suspicious similarity between the dot product and the cosine distance\n",
    "\n",
    "It turns out that the sentence transformer model I'm using here ('all-MiniLM-L6-v2') produces unit vectors, as shown below:"
   ]
  },
  {
   "cell_type": "code",
   "execution_count": 39,
   "id": "d32abe3e-d19d-465e-b8ae-158269b05b50",
   "metadata": {},
   "outputs": [
    {
     "name": "stdout",
     "output_type": "stream",
     "text": [
      "Vector lengths are all between 0.9999998492123835 and 1.0000001540798946.\n"
     ]
    }
   ],
   "source": [
    "get_vector_length = lambda v: np.sqrt( sum( np.multiply(v, v) ) )\n",
    "\n",
    "vector_length = [get_vector_length(v) for v in text_df['vector']]\n",
    "print(f\"Vector lengths are all between {np.min(vector_length)} and {np.max(vector_length)}.\")"
   ]
  },
  {
   "cell_type": "markdown",
   "id": "2d80a10c-2c14-4286-9203-0975c4dd793e",
   "metadata": {},
   "source": [
    "The vector of model coefficients is not a unit vector, but that only results in the difference between the dot product and the cosine similarity being off by a constant factor (equal to the euclidean length of the coefficient vector)."
   ]
  },
  {
   "cell_type": "code",
   "execution_count": 40,
   "id": "c5564e29-b93d-4405-94c5-1ed92f24fa02",
   "metadata": {},
   "outputs": [
    {
     "data": {
      "text/plain": [
       "48.87573453999129"
      ]
     },
     "execution_count": 40,
     "metadata": {},
     "output_type": "execute_result"
    }
   ],
   "source": [
    "get_vector_length(coef_vector)  # not a unit vector"
   ]
  },
  {
   "cell_type": "markdown",
   "id": "6727231a-66f0-48f6-9ea9-07de89cf92ad",
   "metadata": {},
   "source": [
    "# Discussion\n",
    "\n",
    "Vector similarity searching is very flexible. Here we show that we can use a vector of coefficients from a logistic regression model as a query vector. To appreciate the power of this approach, try to imagine how you would come up with a semantic vector that would cover most of the positive movie reviews in this dataset!\n",
    "\n",
    "Accelerated vector searching algorithms should work for this type of query just as well as they work for other vector queries. Stay tuned for our demonstration of using this approach to search a big vector database in (more or less) constant time."
   ]
  }
 ],
 "metadata": {
  "kernelspec": {
   "display_name": "Python 3 (ipykernel)",
   "language": "python",
   "name": "python3"
  },
  "language_info": {
   "codemirror_mode": {
    "name": "ipython",
    "version": 3
   },
   "file_extension": ".py",
   "mimetype": "text/x-python",
   "name": "python",
   "nbconvert_exporter": "python",
   "pygments_lexer": "ipython3",
   "version": "3.11.4"
  }
 },
 "nbformat": 4,
 "nbformat_minor": 5
}
